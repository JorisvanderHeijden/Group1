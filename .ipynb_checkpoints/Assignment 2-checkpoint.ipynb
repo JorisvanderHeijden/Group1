{
 "cells": [
  {
   "cell_type": "markdown",
   "metadata": {
    "slideshow": {
     "slide_type": "slide"
    }
   },
   "source": [
    "## Foundations of Data Mining: Assignment 2\n",
    "\n",
    "Please complete all assignments in this notebook. You should submit this notebook, as well as a PDF version (See File > Download as)."
   ]
  },
  {
   "cell_type": "code",
   "execution_count": 23,
   "metadata": {},
   "outputs": [],
   "source": [
    "# Please fill in your names here\n",
    "NAME_STUDENT_1 = \"Bram van der Pol\"\n",
    "NAME_STUDENT_2 = \"Joris van der Heijden\""
   ]
  },
  {
   "cell_type": "code",
   "execution_count": 24,
   "metadata": {
    "slideshow": {
     "slide_type": "skip"
    }
   },
   "outputs": [
    {
     "data": {
      "text/html": [
       "<style>html, body{overflow: visible !important} .CodeMirror{min-width:105% !important;} .rise-enabled .CodeMirror, .rise-enabled .output_subarea{font-size:140%; line-height:1.2; overflow: visible;} .output_subarea pre{width:110%}</style>"
      ],
      "text/plain": [
       "<IPython.core.display.HTML object>"
      ]
     },
     "execution_count": 24,
     "metadata": {},
     "output_type": "execute_result"
    }
   ],
   "source": [
    "%matplotlib inline\n",
    "from preamble import *\n",
    "plt.rcParams['savefig.dpi'] = 100 # This controls the size of your figures\n",
    "# Comment out and restart notebook if you only want the last output of each cell.\n",
    "InteractiveShell.ast_node_interactivity = \"all\" \n",
    "HTML('''<style>html, body{overflow: visible !important} .CodeMirror{min-width:105% !important;} .rise-enabled .CodeMirror, .rise-enabled .output_subarea{font-size:140%; line-height:1.2; overflow: visible;} .output_subarea pre{width:110%}</style>''') # For slides"
   ]
  },
  {
   "cell_type": "markdown",
   "metadata": {},
   "source": [
    "## Support Vector Bananas (4 points (2+2))\n",
    "We will first explore SVM kernels and hyperparameters on an artificial dataset representing multiple banana shapes. "
   ]
  },
  {
   "cell_type": "code",
   "execution_count": 25,
   "metadata": {},
   "outputs": [],
   "source": [
    "from sklearn.model_selection import *\n",
    "bananas = oml.datasets.get_dataset(1460) # Download banana data\n",
    "X, y = bananas.get_data(target=bananas.default_target_attribute);\n",
    "#X_del, X, y_del, y = train_test_split(X, y, test_size=0.1)\n",
    "X_train, X_test, y_train, y_test = train_test_split(X, y, random_state=0, test_size=1/4)"
   ]
  },
  {
   "cell_type": "markdown",
   "metadata": {},
   "source": [
    "1 . Evaluate how well an SVM classifier can fit the data. \n",
    "\n",
    "- Use a linear, polynomial and radial basis function (RBF) kernel, using their default hyperparameters. Evaluate the performance of each kernel using the test set and AUC. Which one works best? \n",
    "\n",
    "The polynomial works best, see figure\n",
    "- Visualize the results using the visualization code also used in class (under mglearn/plot_svm.py > plot_svm_kernels). Also show the AUC score and the number of support vectors. Explain intuitively how well the data is fitted, why the kernel is (not) able to fit the data, whether it is under- or overfitting, etc.\n",
    "\n",
    "The data is not linear neither based on a radial basis (for sine cosine based data). All kernels are not overfitting, because the radii are relatively large and no islands appear in the contour plot. "
   ]
  },
  {
   "cell_type": "code",
   "execution_count": 15,
   "metadata": {
    "scrolled": true
   },
   "outputs": [
    {
     "name": "stdout",
     "output_type": "stream",
     "text": [
      "(3975, 2)\n",
      "(5300,)\n"
     ]
    }
   ],
   "source": [
    "from sklearn import svm\n",
    "from sklearn.metrics import roc_curve, auc\n",
    "\n",
    "#C = 1.0  # SVM regularization parameter\n",
    "models = (svm.SVC(kernel='linear'),\n",
    "          #svm.LinearSVC(),\n",
    "          svm.SVC(kernel='rbf'),\n",
    "          svm.SVC(kernel='poly', degree=3))\n",
    "models = (clf.fit(X_train, y_train) for clf in models)\n",
    "\n",
    "print(X_train.shape)\n",
    "print(y.shape)\n",
    "\n",
    "\n",
    "def Visualize():\n",
    "    roc_auc = np.zeros((3,1))\n",
    "    score = np.zeros((3,1))\n",
    "    fignum=0\n",
    "    # plot the line, the points, and the nearest vectors to the plane\n",
    "    for clf in models:\n",
    "\n",
    "        plt.figure(fignum, figsize=(15, 15))\n",
    "        plt.clf()\n",
    "\n",
    "        plt.scatter(clf.support_vectors_[:, 0], clf.support_vectors_[:, 1],\n",
    "                    facecolors='none', zorder=10, edgecolors='k')\n",
    "        plt.scatter(X_train[:, 0], X_train[:, 1], zorder=10, cmap=plt.cm.Paired,\n",
    "                   edgecolors='k')\n",
    "\n",
    "        mglearn.discrete_scatter(X[:, 0], X[:, 1], y)\n",
    "\n",
    "        plt.axis('tight')\n",
    "        x_min = np.min(X_train[:,0])\n",
    "        x_max = np.max(X_train[:,0])\n",
    "        y_min = np.min(X_train[:,1])\n",
    "        y_max = np.max(X_train[:,1])\n",
    "\n",
    "        XX, YY = np.mgrid[x_min:x_max:200j, y_min:y_max:200j] # Make a grid\n",
    "        Z = clf.decision_function(np.c_[XX.ravel(), YY.ravel()]) # Calculate which color for the map using the clf \n",
    "\n",
    "        # Put the result into a color plot\n",
    "        Z = Z.reshape(XX.shape)\n",
    "        plt.figure(fignum, figsize=(4, 3))\n",
    "        #plt.pcolormesh(XX, YY, Z > 0, cmap=plt.cm.Paired)\n",
    "        plt.pcolormesh(XX, YY, Z > 0, cmap=plt.cm.jet)\n",
    "        plt.contour(XX, YY, Z, colors=['k', 'k', 'k'], linestyles=['--', '-', '--'],\n",
    "                    levels=[-.5, 0, .5])\n",
    "\n",
    "        plt.xlim(x_min, x_max)\n",
    "        plt.ylim(y_min, y_max)\n",
    "\n",
    "        plt.xticks(())\n",
    "        plt.yticks(())\n",
    "        \n",
    "        plt.show()\n",
    "        \n",
    "        y_score = clf.fit(X_train, y_train).decision_function(X_test)\n",
    "\n",
    "        fpr, tpr, _ = roc_curve(y_test, y_score)\n",
    "        roc_auc[fignum] = auc(fpr, tpr)\n",
    "        \n",
    "        score[fignum]=clf.score(X_test,y_test)\n",
    "        \n",
    "        print(\"Support vectors:\")\n",
    "        print(clf.support_vectors_[:].shape)\n",
    "\n",
    "        if fignum==3:\n",
    "            print('score= ',score)\n",
    "            print('roc_auc= ',roc_auc)\n",
    "        fignum = fignum + 1\n",
    "\n",
    "#Visualize()\n",
    "\n"
   ]
  },
  {
   "cell_type": "markdown",
   "metadata": {},
   "source": [
    "2 . Pick the RBF kernel and optimize the two most important hyperparameters (the $C$ parameter and the kernel width $\\gamma$). \n",
    "\n",
    "- First, optimize manually using 3 values for each (a very small, default, and very large value). For each of the 9 combinations, create the same RBF plot as before, report the number of support vectors, and the AUC performance. Explain the performance results. When are you over/underfitting?\n",
    "- Next, optimize the hyperparameters using a grid search and 10-fold cross validation. Show a heatmap of the results and report the optimal hyperparameter values.\n",
    "    - Hint: values for C and $\\gamma$ are typically in [$2^{-15}..2^{15}$] on a log scale. Use at least 10 values for each."
   ]
  },
  {
   "cell_type": "code",
   "execution_count": 16,
   "metadata": {},
   "outputs": [
    {
     "name": "stdout",
     "output_type": "stream",
     "text": [
      "(3975, 2)\n",
      "(5300,)\n"
     ]
    }
   ],
   "source": [
    "#C = 1.0  # SVM regularization parameter\n",
    "models = (svm.SVC(kernel='rbf',C=2e-15,gamma=2e-15),svm.SVC(kernel='rbf',C=2e-15),\n",
    "          svm.SVC(kernel='rbf',C=2e-15,gamma=2e15),\n",
    "          svm.SVC(kernel='rbf',gamma=2e-15),svm.SVC(kernel='rbf'),\n",
    "          svm.SVC(kernel='rbf',gamma=2e15),\n",
    "          svm.SVC(kernel='rbf',C=2e15,gamma=2e-15),svm.SVC(kernel='rbf',C=2e15),\n",
    "          svm.SVC(kernel='rbf',C=2e15,gamma=2e15),)\n",
    "models = (clf.fit(X_train, y_train) for clf in models)\n",
    "\n",
    "print(X_train.shape)\n",
    "print(y.shape)\n",
    "\n",
    "\n",
    "def Visualize():\n",
    "    roc_auc = np.zeros((9,1))\n",
    "    score = np.zeros((9,1))\n",
    "    fignum=0\n",
    "    # plot the line, the points, and the nearest vectors to the plane\n",
    "    \n",
    "    for clf in models:\n",
    "        plt.figure(fignum, figsize=(15, 15))\n",
    "        plt.clf()\n",
    "\n",
    "        plt.scatter(clf.support_vectors_[:, 0], clf.support_vectors_[:, 1],\n",
    "                    facecolors='none', zorder=10, edgecolors='k')\n",
    "        plt.scatter(X_train[:, 0], X_train[:, 1], zorder=10, cmap=plt.cm.Paired,\n",
    "                   edgecolors='k')\n",
    "\n",
    "        mglearn.discrete_scatter(X[:, 0], X[:, 1], y)\n",
    "\n",
    "        plt.axis('tight')\n",
    "        x_min = np.min(X_train[:,0])\n",
    "        x_max = np.max(X_train[:,0])\n",
    "        y_min = np.min(X_train[:,1])\n",
    "        y_max = np.max(X_train[:,1])\n",
    "\n",
    "        XX, YY = np.mgrid[x_min:x_max:200j, y_min:y_max:200j] # Make a grid\n",
    "        Z = clf.decision_function(np.c_[XX.ravel(), YY.ravel()]) # Calculate which color for the map using the clf \n",
    "\n",
    "        # Put the result into a color plot\n",
    "        Z = Z.reshape(XX.shape)\n",
    "        plt.figure(fignum, figsize=(4, 3))\n",
    "        #plt.pcolormesh(XX, YY, Z > 0, cmap=plt.cm.Paired)\n",
    "        plt.pcolormesh(XX, YY, Z > 0, cmap=plt.cm.jet)\n",
    "        plt.contour(XX, YY, Z, colors=['k', 'k', 'k'], linestyles=['--', '-', '--'],\n",
    "                    levels=[-.5, 0, .5])\n",
    "\n",
    "        plt.xlim(x_min, x_max)\n",
    "        plt.ylim(y_min, y_max)\n",
    "\n",
    "        plt.xticks(())\n",
    "        plt.yticks(())\n",
    "        \n",
    "        plt.show()\n",
    "        \n",
    "        y_score = clf.fit(X_train, y_train).decision_function(X_test)\n",
    "\n",
    "        fpr, tpr, _ = roc_curve(y_test, y_score)\n",
    "        roc_auc[fignum] = auc(fpr, tpr)\n",
    "        \n",
    "        score[fignum]=clf.score(X_test,y_test)\n",
    "        \n",
    "        print(\"Support vectors:\")\n",
    "        print(clf.support_vectors_[:].shape)\n",
    "\n",
    "        if fignum==9:\n",
    "            print('score= ',score)\n",
    "            print('roc_auc= ',roc_auc)\n",
    "        fignum = fignum + 1\n",
    "\n",
    "#Visualize()\n"
   ]
  },
  {
   "cell_type": "code",
   "execution_count": 17,
   "metadata": {},
   "outputs": [],
   "source": [
    "from sklearn.model_selection import train_test_split, cross_val_score, cross_val_predict, GridSearchCV \n",
    "import seaborn as sns\n",
    "import matplotlib\n",
    "\n",
    "def Q2():\n",
    "    CA=np.logspace(-15,15,20)\n",
    "    gammaA=np.logspace(-15,15,20)\n",
    "    p_grid = {\"C\": CA,\n",
    "          \"gamma\": gammaA}\n",
    "    clf=svm.SVC(kernel='rbf')\n",
    "    grid = GridSearchCV(clf, param_grid=p_grid, cv=10, n_jobs=1)    \n",
    "    grid.fit(X_train, y_train)\n",
    "\n",
    "    results = pd.DataFrame(grid.cv_results_)\n",
    "\n",
    "    print(\"Best params:\\n{}\\n\".format(grid.best_params_))\n",
    "    print(\"Best cross-validation score: {:.2f}\".format(grid.best_score_))\n",
    "    print(\"Test-set score: {:.2f}\".format(grid.score(X_test, y_test)))\n",
    "\n",
    "\n",
    "    scores = np.array(results.mean_test_score).reshape(len(CA),len(gammaA))\n",
    "\n",
    "    # plot the mean cross-validation scores\n",
    "    plt.figure(1, figsize=(15, 15))\n",
    "    print(p_grid['gamma'])\n",
    "    print(np.array(map(str,p_grid['gamma'])))\n",
    "    str1=np.char.mod('%.3e',CA)\n",
    "    str2=np.char.mod('%.3e',gammaA)\n",
    "    mglearn.tools.heatmap(scores, ylabel='C', yticklabels=str1,\n",
    "                      xlabel='gamma', xticklabels=str2, cmap=\"viridis\",fmt=\"%.3f\")\n",
    "            #matplotlib.ticker.LogFormatterExponent(base=10.0, labelOnlyBase=False, minor_thresholds=None, linthresh=None));\n",
    "    #plt.ticklabel_format(style='sci')\n",
    "    ax = plt.gca\n",
    "    #ax.XData = str(np.array(gammaA),fmt=\"%.3f\")\n",
    "    plt.title(\"ElasticNet score\")\n",
    "#Q2()"
   ]
  },
  {
   "cell_type": "markdown",
   "metadata": {
    "slideshow": {
     "slide_type": "slide"
    }
   },
   "source": [
    "## Building Kernels (4 points (0.5+0.5+1+2))\n",
    "\n",
    "Consider the artificial dataset given below. It represents a sine wave with added noise."
   ]
  },
  {
   "cell_type": "markdown",
   "metadata": {},
   "source": [
    "1. Fit an SVM Regressor with the default RBF kernel, and plot the predictions on all data points in [0, 40]. \n",
    "\n",
    "    - Does it fit the data well? Does it extrapolate well (in the range [30,40])? Explain your findings. \n",
    "    - Can you get better results by tweaking the kernel or the other SVM parameters?\n",
    "    \n",
    "2. Implement your own linear kernel. This is a function that takes 2 vectors (arrays) and returns the dot product:\n",
    "\n",
    "      $$k(\\mathbf{x}_i,\\,\\mathbf{x}_j) = \\mathbf{x}_i \\cdot \\mathbf{x}_j$$\n",
    "    - Build an SVM regressor using that kernel by passing your kernel function as the `kernel` hyperparameter. \n",
    "    - Fit it on the sine data and plot the predictions on all data points. Interpret the results.\n",
    "    \n",
    "3. Since this data is periodic, it makes sense to implement a periodic kernel instead. \n",
    "\n",
    "    - This is the Exponential Sine Squared kernel, with length scale $\\Gamma$ and periodicity $P$:\n",
    "  $$k(\\mathbf{x}_i,\\,\\mathbf{x}_j) = \\exp \\left( -\\Gamma\\,\\sin^2\\left[\\frac{\\pi}{P}\\,\\left|\\left|x_i-x_j\\right|\\right|\\right]\\right)$$\n",
    "    - Implement it, using the defaults $\\Gamma=1$, periodicity $P=1$, and Euclidean distance.\n",
    "    - Train an SVM regressor with it, fit in on the same data and plot the result. Interpret the outcome. \n",
    "    - Think about what $\\Gamma$ and $P$ represent. Can you improve the fit by manually adjusting them? Explain your findings.\n",
    "    - Optimize $\\Gamma$ and periodicity $P$ (using `true_y` as the ground truth). Use a grid search or random search, $\\Gamma \\in [0,1]$, $P \\in [1,100]$, try at least 5 values for each."
   ]
  },
  {
   "cell_type": "code",
   "execution_count": 18,
   "metadata": {},
   "outputs": [
    {
     "data": {
      "application/pdf": "[encoded data removed]",
      "image/png": "[encoded data removed]",
      "text/plain": [
       "<matplotlib.figure.Figure at 0x16841602da0>"
      ]
     },
     "metadata": {},
     "output_type": "display_data"
    }
   ],
   "source": [
    "# Generate sample data\n",
    "rng = np.random.RandomState(0) # Random seed, for reproducibility \n",
    "X = 30 * rng.rand(200, 1)\n",
    "y = np.sin(X).ravel() \n",
    "y[::2] += rng.normal(scale = 1.0, size = X.shape[0] // 2) # adds noise\n",
    "\n",
    "X_plot = np.linspace(0, 40, 10000)[:, None] # A larger range to evaluate on\n",
    "true_y = np.sin(X_plot) # and the 'true' target function\n",
    "\n",
    "plt.figure(figsize=(10, 5))\n",
    "plt.scatter(X, y, c='k', label='Data')\n",
    "plt.plot(X_plot, true_y);"
   ]
  },
  {
   "cell_type": "markdown",
   "metadata": {},
   "source": [
    "4 . We now make the problem a bit more challenging by adding an upward trend:\n",
    "\n",
    "- Fit the same SVM using the optimal parameters from the previous subtask and plot the results. Do they still work? Explain what you see.\n",
    "- Fit a Gaussian process (GP) using the kernels given below. First use the singular ExpSineSquared kernel (the implementation provided by sklearn this time), then build a new kernel consisting of the 3 components given below. Use both to predict all points for the \"rising noisy sine\" data and plot the results as usual. Interpret the results.\n",
    "    - For the GP, it may help to use `normalize_y=True` since the y-values are not around 0. Setting `alpha=0.1` may help with possible numerical issues, otherwise keep it at 0.\n",
    "- Also plot the _uncertainty interval_ around the predictions. You can ask the GP to return the standard deviation during prediction with the `return_std=True` hyperparameter. Plot a band 2 standard deviations above and below the prediction. You can use MatPlotLib's `fill_between` as shown in class.\n",
    "    - You can combine the 3 models in one plot for easy comparison.\n",
    "- We've provided reasonable values for the kernel hyperparameters above. Can you optimize them further to get an even better fit? Think about what the hyperparameters do and optimize the ones you think are most worth tuning."
   ]
  },
  {
   "cell_type": "code",
   "execution_count": 19,
   "metadata": {},
   "outputs": [
    {
     "data": {
      "application/pdf": "[encoded data removed]",
      "image/png": "[encoded data removed]",
      "text/plain": [
       "<matplotlib.figure.Figure at 0x168416319b0>"
      ]
     },
     "metadata": {},
     "output_type": "display_data"
    }
   ],
   "source": [
    "# Generate sample data with added trend\n",
    "rng = np.random.RandomState(0)\n",
    "X = 30 * rng.rand(200, 1)\n",
    "y = X.ravel()/2 + np.sin(X).ravel()\n",
    "y[::2] += rng.normal(scale = 1.0, size = X.shape[0] // 2)  # add noise\n",
    "\n",
    "X_plot = np.linspace(0, 40, 10000)[:, None]\n",
    "true_y = X_plot/2 + np.sin(X_plot)\n",
    "\n",
    "plt.figure(figsize=(10, 5))\n",
    "plt.scatter(X, y, c='k', label='Data')\n",
    "plt.plot(X_plot, true_y);"
   ]
  },
  {
   "cell_type": "code",
   "execution_count": 20,
   "metadata": {},
   "outputs": [],
   "source": [
    "from sklearn.gaussian_process.kernels import WhiteKernel, ExpSineSquared, RBF\n",
    "\n",
    "# Replace `length_scale` and `periodicity` with the values found in the previous part.\n",
    "kernel_simple = ExpSineSquared(length_scale=1, periodicity=1) # periodic component\n",
    "\n",
    "k1 = 4300 * RBF(length_scale=70.0)  # long term smooth rising trend\n",
    "k2 = 6 * RBF(length_scale=90.0) * ExpSineSquared(length_scale=1.3, periodicity=1.0)  # periodic component\n",
    "k3 = 0.03 * RBF(length_scale=0.134) + WhiteKernel(noise_level=0.035)  # noise terms"
   ]
  },
  {
   "cell_type": "markdown",
   "metadata": {
    "slideshow": {
     "slide_type": "slide"
    }
   },
   "source": [
    "## Bayesian updates (3 points (2+1))\n",
    "\n",
    "We consider real data about solar radiation measured by a weather balloon:\n",
    "https://www.openml.org/d/512. We'll use only the raw data (at least the first 1000 points) and try to learn the (very noisy) trend. "
   ]
  },
  {
   "cell_type": "markdown",
   "metadata": {
    "slideshow": {
     "slide_type": "subslide"
    }
   },
   "source": [
    "1. Train a Gaussian process on an increasing amount of samples of the training data. Use a simple RBF kernel:\n",
    "`RBF(10, (1e-2, 1e2))`\n",
    "\n",
    " - Start with 10 _random_ samples and plot the predictions (both the mean and the uncertainty interval) for both training and test data, as shown in class. Also compute $R^2$ on the training data.\n",
    " - Repeat and 10 more points, retrain and redraw. Do this a couple of times and interpret/explain what you see. \n",
    " \n",
    "2. Train the Gaussian on the full training set.\n",
    "\n",
    " - Plot the predictions (including the uncertainty interval) on the full dataset. Evaluate on the test set using $R^2$ \n",
    " - Interpret the results. Is the kernel right? Is the GP under/overfitting?\n",
    " - Try to improve the results by tuning the kernel. Do this either manually or using a small grid/random search."
   ]
  },
  {
   "cell_type": "code",
   "execution_count": 21,
   "metadata": {
    "slideshow": {
     "slide_type": "subslide"
    }
   },
   "outputs": [
    {
     "data": {
      "text/plain": [
       "<matplotlib.axes._subplots.AxesSubplot at 0x168416be6d8>"
      ]
     },
     "execution_count": 21,
     "metadata": {},
     "output_type": "execute_result"
    },
    {
     "name": "stdout",
     "output_type": "stream",
     "text": [
      "(1000, 1)\n",
      "(500, 1)\n",
      "(999, 1)\n",
      "(999, 1)\n",
      "(500, 1)\n",
      "(500, 1)\n",
      "(1500, 1)\n"
     ]
    },
    {
     "data": {
      "application/pdf": "[encoded data removed]",
      "image/png": "[encoded data removed]",
      "text/plain": [
       "<matplotlib.figure.Figure at 0x168402fe710>"
      ]
     },
     "metadata": {},
     "output_type": "display_data"
    }
   ],
   "source": [
    "# Get the data\n",
    "balloon_data = oml.datasets.get_dataset(512) # Download Balloon data\n",
    "X, y = balloon_data.get_data(target=balloon_data.default_target_attribute);\n",
    "\n",
    "train = X[:1000]                                         # (1000, 1)\n",
    "test = X[1000:1500]                                      # (1000, 1)\n",
    "X_train = np.array(list(range(1000)))[np.newaxis].T      # (1000, 1)\n",
    "y_train = X[:1000].reshape(-1, 1)                        # (1000, 1)\n",
    "X_test = np.array(list(range(1000,1500)))[np.newaxis].T  # (250, 1)\n",
    "y_test = X[1000:1500].reshape(-1, 1)                     # (500, 1)\n",
    "X_all = np.array(list(range(1500)))[np.newaxis].T        # (1500, 1)\n",
    "\n",
    "pd.Series(X[:1500,0]).plot()\n",
    "\n",
    "X_del, X_train, y_del, y_train = train_test_split(X_train, y_train, test_size=999)\n",
    "\n",
    "print(train.shape)\n",
    "print(test.shape)\n",
    "print(X_train.shape)\n",
    "print(y_train.shape)\n",
    "print(X_test.shape)\n",
    "print(y_test.shape)\n",
    "print(X_all.shape)"
   ]
  },
  {
   "cell_type": "code",
   "execution_count": 36,
   "metadata": {},
   "outputs": [
    {
     "name": "stdout",
     "output_type": "stream",
     "text": [
      "(1000, 1)\n"
     ]
    },
    {
     "ename": "ValueError",
     "evalue": "XA and XB must have the same number of columns (i.e. feature dimension.)",
     "output_type": "error",
     "traceback": [
      "\u001b[1;31m---------------------------------------------------------------------------\u001b[0m",
      "\u001b[1;31mValueError\u001b[0m                                Traceback (most recent call last)",
      "\u001b[1;32m<ipython-input-36-04cb84ee29d2>\u001b[0m in \u001b[0;36m<module>\u001b[1;34m()\u001b[0m\n\u001b[0;32m     57\u001b[0m \u001b[1;33m\u001b[0m\u001b[0m\n\u001b[0;32m     58\u001b[0m \u001b[1;33m\u001b[0m\u001b[0m\n\u001b[1;32m---> 59\u001b[1;33m \u001b[0mQ3_bram\u001b[0m\u001b[1;33m(\u001b[0m\u001b[1;36m10\u001b[0m\u001b[1;33m)\u001b[0m\u001b[1;33m\u001b[0m\u001b[0m\n\u001b[0m\u001b[0;32m     60\u001b[0m \u001b[1;33m\u001b[0m\u001b[0m\n\u001b[0;32m     61\u001b[0m \u001b[0mQ3_bram\u001b[0m\u001b[1;33m(\u001b[0m\u001b[1;36m20\u001b[0m\u001b[1;33m)\u001b[0m\u001b[1;33m\u001b[0m\u001b[0m\n",
      "\u001b[1;32m<ipython-input-36-04cb84ee29d2>\u001b[0m in \u001b[0;36mQ3_bram\u001b[1;34m(testSize)\u001b[0m\n\u001b[0;32m     29\u001b[0m     \u001b[0mprint\u001b[0m\u001b[1;33m(\u001b[0m\u001b[0mx\u001b[0m\u001b[1;33m.\u001b[0m\u001b[0mshape\u001b[0m\u001b[1;33m)\u001b[0m\u001b[1;33m\u001b[0m\u001b[0m\n\u001b[0;32m     30\u001b[0m     \u001b[1;31m# Make the prediction on the meshed x-axis (ask for MSE as well)\u001b[0m\u001b[1;33m\u001b[0m\u001b[1;33m\u001b[0m\u001b[0m\n\u001b[1;32m---> 31\u001b[1;33m     \u001b[0my_pred\u001b[0m\u001b[1;33m,\u001b[0m \u001b[0msigma\u001b[0m \u001b[1;33m=\u001b[0m \u001b[0mgp\u001b[0m\u001b[1;33m.\u001b[0m\u001b[0mpredict\u001b[0m\u001b[1;33m(\u001b[0m\u001b[0mx\u001b[0m\u001b[1;33m,\u001b[0m \u001b[0mreturn_std\u001b[0m\u001b[1;33m=\u001b[0m\u001b[1;32mTrue\u001b[0m\u001b[1;33m)\u001b[0m\u001b[1;33m\u001b[0m\u001b[0m\n\u001b[0m\u001b[0;32m     32\u001b[0m     \u001b[1;31m# Plot the function, the prediction and the 95% confidence interval based on\u001b[0m\u001b[1;33m\u001b[0m\u001b[1;33m\u001b[0m\u001b[0m\n\u001b[0;32m     33\u001b[0m     \u001b[1;31m# the MSE\u001b[0m\u001b[1;33m\u001b[0m\u001b[1;33m\u001b[0m\u001b[0m\n",
      "\u001b[1;32m~\\AppData\\Local\\Continuum\\anaconda3\\lib\\site-packages\\sklearn\\gaussian_process\\gpr.py\u001b[0m in \u001b[0;36mpredict\u001b[1;34m(self, X, return_std, return_cov)\u001b[0m\n\u001b[0;32m    313\u001b[0m                 \u001b[1;32mreturn\u001b[0m \u001b[0my_mean\u001b[0m\u001b[1;33m\u001b[0m\u001b[0m\n\u001b[0;32m    314\u001b[0m         \u001b[1;32melse\u001b[0m\u001b[1;33m:\u001b[0m  \u001b[1;31m# Predict based on GP posterior\u001b[0m\u001b[1;33m\u001b[0m\u001b[0m\n\u001b[1;32m--> 315\u001b[1;33m             \u001b[0mK_trans\u001b[0m \u001b[1;33m=\u001b[0m \u001b[0mself\u001b[0m\u001b[1;33m.\u001b[0m\u001b[0mkernel_\u001b[0m\u001b[1;33m(\u001b[0m\u001b[0mX\u001b[0m\u001b[1;33m,\u001b[0m \u001b[0mself\u001b[0m\u001b[1;33m.\u001b[0m\u001b[0mX_train_\u001b[0m\u001b[1;33m)\u001b[0m\u001b[1;33m\u001b[0m\u001b[0m\n\u001b[0m\u001b[0;32m    316\u001b[0m             \u001b[0my_mean\u001b[0m \u001b[1;33m=\u001b[0m \u001b[0mK_trans\u001b[0m\u001b[1;33m.\u001b[0m\u001b[0mdot\u001b[0m\u001b[1;33m(\u001b[0m\u001b[0mself\u001b[0m\u001b[1;33m.\u001b[0m\u001b[0malpha_\u001b[0m\u001b[1;33m)\u001b[0m  \u001b[1;31m# Line 4 (y_mean = f_star)\u001b[0m\u001b[1;33m\u001b[0m\u001b[0m\n\u001b[0;32m    317\u001b[0m             \u001b[0my_mean\u001b[0m \u001b[1;33m=\u001b[0m \u001b[0mself\u001b[0m\u001b[1;33m.\u001b[0m\u001b[0m_y_train_mean\u001b[0m \u001b[1;33m+\u001b[0m \u001b[0my_mean\u001b[0m  \u001b[1;31m# undo normal.\u001b[0m\u001b[1;33m\u001b[0m\u001b[0m\n",
      "\u001b[1;32m~\\AppData\\Local\\Continuum\\anaconda3\\lib\\site-packages\\sklearn\\gaussian_process\\kernels.py\u001b[0m in \u001b[0;36m__call__\u001b[1;34m(self, X, Y, eval_gradient)\u001b[0m\n\u001b[0;32m   1213\u001b[0m                     \"Gradient can only be evaluated when Y is None.\")\n\u001b[0;32m   1214\u001b[0m             dists = cdist(X / length_scale, Y / length_scale,\n\u001b[1;32m-> 1215\u001b[1;33m                           metric='sqeuclidean')\n\u001b[0m\u001b[0;32m   1216\u001b[0m             \u001b[0mK\u001b[0m \u001b[1;33m=\u001b[0m \u001b[0mnp\u001b[0m\u001b[1;33m.\u001b[0m\u001b[0mexp\u001b[0m\u001b[1;33m(\u001b[0m\u001b[1;33m-\u001b[0m\u001b[1;36m.5\u001b[0m \u001b[1;33m*\u001b[0m \u001b[0mdists\u001b[0m\u001b[1;33m)\u001b[0m\u001b[1;33m\u001b[0m\u001b[0m\n\u001b[0;32m   1217\u001b[0m \u001b[1;33m\u001b[0m\u001b[0m\n",
      "\u001b[1;32m~\\AppData\\Local\\Continuum\\anaconda3\\lib\\site-packages\\scipy\\spatial\\distance.py\u001b[0m in \u001b[0;36mcdist\u001b[1;34m(XA, XB, metric, *args, **kwargs)\u001b[0m\n\u001b[0;32m   2371\u001b[0m         \u001b[1;32mraise\u001b[0m \u001b[0mValueError\u001b[0m\u001b[1;33m(\u001b[0m\u001b[1;34m'XB must be a 2-dimensional array.'\u001b[0m\u001b[1;33m)\u001b[0m\u001b[1;33m\u001b[0m\u001b[0m\n\u001b[0;32m   2372\u001b[0m     \u001b[1;32mif\u001b[0m \u001b[0ms\u001b[0m\u001b[1;33m[\u001b[0m\u001b[1;36m1\u001b[0m\u001b[1;33m]\u001b[0m \u001b[1;33m!=\u001b[0m \u001b[0msB\u001b[0m\u001b[1;33m[\u001b[0m\u001b[1;36m1\u001b[0m\u001b[1;33m]\u001b[0m\u001b[1;33m:\u001b[0m\u001b[1;33m\u001b[0m\u001b[0m\n\u001b[1;32m-> 2373\u001b[1;33m         raise ValueError('XA and XB must have the same number of columns '\n\u001b[0m\u001b[0;32m   2374\u001b[0m                          '(i.e. feature dimension.)')\n\u001b[0;32m   2375\u001b[0m \u001b[1;33m\u001b[0m\u001b[0m\n",
      "\u001b[1;31mValueError\u001b[0m: XA and XB must have the same number of columns (i.e. feature dimension.)"
     ]
    },
    {
     "data": {
      "text/plain": [
       "<matplotlib.figure.Figure at 0x16841c2a320>"
      ]
     },
     "metadata": {},
     "output_type": "display_data"
    }
   ],
   "source": [
    "from sklearn.gaussian_process import GaussianProcessRegressor\n",
    "from sklearn.gaussian_process.kernels import RBF, ConstantKernel as C\n",
    "from sklearn.metrics import r2_score\n",
    "\n",
    "def Q3_bram(testSize):\n",
    "    X_del, X_train_red, y_del, y_train_red = train_test_split(X_train, y_train, test_size=testSize, random_state=1337)\n",
    "    \n",
    "    plt.figure(0, figsize=(20, 20))\n",
    "    \n",
    "    #def f(x): #\"\"\"The function to predict.\"\"\"\n",
    "    #    return x\n",
    "    \n",
    "\n",
    "    # Observations\n",
    "    dy = 0.5 + 1.0 * np.random.random(y_train_red.shape)\n",
    "\n",
    "    x = np.atleast_2d(np.linspace(0, 1400, 1000)).T\n",
    "    \n",
    "    ## Noisy example\n",
    "    # Instanciate a Gaussian Process model\n",
    "    #y = f(X).ravel()\n",
    "    #dy = 0.5 + 1.0 * np.random.random(y.shape)\n",
    "    \n",
    "    kernel = RBF(10, (1e-2, 1e2)) #RBF(length_scale=1.0, length_scale_bounds=(1e-2, 1e3)) \\ \n",
    "    gp = GaussianProcessRegressor(kernel=kernel,    n_restarts_optimizer=10,normalize_y=True,alpha=1e-0)\n",
    "    # Fit to data using Maximum Likelihood Estimation of the parameters\n",
    "    gp.fit(X_train_red, y_train_red)\n",
    "    print(x.shape)\n",
    "    # Make the prediction on the meshed x-axis (ask for MSE as well)\n",
    "    y_pred, sigma = gp.predict(x, return_std=True)\n",
    "    # Plot the function, the prediction and the 95% confidence interval based on\n",
    "    # the MSE\n",
    "    fig = plt.figure()\n",
    "    #plt.plot(x, f(x), 'r:', label=u'$f(x) = x\\,\\sin(x)$')\n",
    "    plt.plot(X)\n",
    "    plt.errorbar(X_train_red.ravel(), y_train_red, dy, fmt='r.', markersize=10, label=u'Observations')\n",
    "    plt.plot(x, y_pred, 'k', label=u'Prediction',linewidth=3)\n",
    "    print(y_pred)\n",
    "    '''\n",
    "    #should plot confidence interval but somehow does not work as expected\n",
    "    plt.fill(np.concatenate([x, x[::-1]]),\n",
    "    np.concatenate([y_pred - 1.9600 * sigma,\n",
    "    (y_pred + 1.9600 * sigma)[::-1]]),\n",
    "    alpha=.2, fc='y', ec='None', label='95% confidence interval')\n",
    "    '''\n",
    "    #print(r2_score(y_pred,y_test))\n",
    "    \n",
    "    plt.xlabel('$x$')\n",
    "    plt.ylabel('$f(x)$')\n",
    "    plt.ylim(-1, 5)\n",
    "    #plt.xlim(200, 250) #limit plotted x range so that we can see more than solid blobs\n",
    "    plt.legend(loc='upper left')\n",
    "\n",
    "    \n",
    "    plt.show()\n",
    "    \n",
    "    \n",
    "Q3_bram(10)\n",
    "\n",
    "Q3_bram(20)\n",
    "\n",
    "Q3_bram(40)\n",
    "\n",
    "Q3_bram(200)"
   ]
  },
  {
   "cell_type": "code",
   "execution_count": 32,
   "metadata": {},
   "outputs": [
    {
     "data": {
      "text/plain": [
       "\"\\n# Plot the function, the prediction and the 95% confidence interval based on\\n# the MSE\\nfig = plt.figure()\\n#plt.plot(X_test, f(x), 'r:', label=u'$f(x) = x\\\\,\\\\sin(x)$')\\nplt.errorbar(X_train.ravel(), y_test, dy, fmt='r.', markersize=10, label=u'Observations')\\nplt.plot(x, y_pred, 'b-', label=u'Prediction')\\n\\nplt.xlabel('$x$')\\nplt.ylabel('$f(x)$')\\nplt.ylim(-10, 20)\\nplt.legend(loc='upper left')\\n\\nplt.show()\\n\""
      ]
     },
     "execution_count": 32,
     "metadata": {},
     "output_type": "execute_result"
    }
   ],
   "source": [
    "#GaussianProcessRegressor(kernel=RBF(10, (1e-2, 1e2)))\n",
    "\n",
    "\n",
    "from sklearn.gaussian_process import GaussianProcessRegressor\n",
    "from sklearn.gaussian_process.kernels import RBF\n",
    "from sklearn.gaussian_process import GaussianProcessClassifier\n",
    "\n",
    "def GR_learning():\n",
    "    \n",
    "    gp = GaussianProcessClassifier(kernel=1.0 * RBF(length_scale=1.0))\n",
    "    gp.fit(X_train, y_train)\n",
    "    \n",
    "    #gp = GaussianProcessRegressor(kernel=RBF(10, (1e-2, 1e2)))\n",
    "    \n",
    "    \n",
    "    \n",
    "    #gp = GaussianProcessRegressor(kernel=RBF(10, (1e-2, 1e2))) #, n_restarts_optimizer=9\n",
    " \n",
    "    #gp.fit(X_train, y_train)\n",
    "\n",
    "    # Make the prediction on the meshed x-axis (ask for MSE as well)\n",
    "    X_training_test=np.append([X_train],[X_test]).reshape(-1, 1)\n",
    "    #print(X_train.shape)\n",
    "    #print(X_training_test)\n",
    "    y_pred, sigma = gp.predict(X_test,return_std=True)\n",
    "\n",
    "    print(y_pred.shape)\n",
    "    print(X_test.shape)\n",
    "    \n",
    "    confidence=0.001\n",
    "    \n",
    "    \n",
    "    plt.figure(0)\n",
    "    plt.scatter(X_train, y_train, c='k', label=\"Train data\",\n",
    "                edgecolors=(0, 0, 0))\n",
    "    plt.scatter(X_train, y_train, c='g', label=\"Test data\",\n",
    "                edgecolors=(0, 0, 0))\n",
    "    X_ = np.linspace(0, 5, 100)\n",
    "    plt.plot(X_test, gppredict_proba(X_[:, np.newaxis])[:, 1], 'r',\n",
    "             label=\"Initial kernel: %s\" % gp_fix.kernel_)\n",
    "    #plt.plot(X_, gp_opt.predict_proba(X_[:, np.newaxis])[:, 1], 'b',\n",
    "    #         label=\"Optimized kernel: %s\" % gp_opt.kernel_)\n",
    "    plt.xlabel(\"Feature\")\n",
    "    plt.ylabel(\"Class 1 probability\")\n",
    "    plt.xlim(0, 5)\n",
    "    plt.ylim(-0.25, 1.5)\n",
    "    plt.legend(loc=\"best\")\n",
    "\n",
    "    \n",
    "    \n",
    "    '''   \n",
    "    fig = plt.figure( figsize=(15, 15))\n",
    "    x = X_training_test\n",
    "    # plt.plot(X_test,'b:', label=u'$f(x) = x\\,\\sin(x)$')\n",
    "    # plt.fill(np.concatenate([x, x[::-1]]),\n",
    "    #    np.concatenate([y_pred - 1 - confidence * sigma, (y_pred + 1 + confidence * sigma)[::-1]]),\n",
    "    #        facecolor='b', alpha=0.1, label='95% confidence interval')\n",
    "    #plt.plot(X_train,y_train,'r:', label=u'$f(x) = x\\,\\sin(x)$')\n",
    "    plt.plot(X_test,y_pred,'k:', label=u'$f(x) = x\\,\\sin(x)$')\n",
    "    plt.plot(X_test,y_test,'k:', label=u'$f(x) = x\\,\\sin(x)$')\n",
    "    # plt.plot(X_test,y_test,'b:', label=u'$f(x) = x\\,\\sin(x)$')\n",
    "    print(y_pred)\n",
    "    #         alpha=.5, fc='b', ec='None', label='95% confidence interval')\n",
    "    #print(X_test)\n",
    "    '''\n",
    "#GR_learning()\n",
    "             \n",
    "'''\n",
    "# Plot the function, the prediction and the 95% confidence interval based on\n",
    "# the MSE\n",
    "fig = plt.figure()\n",
    "#plt.plot(X_test, f(x), 'r:', label=u'$f(x) = x\\,\\sin(x)$')\n",
    "plt.errorbar(X_train.ravel(), y_test, dy, fmt='r.', markersize=10, label=u'Observations')\n",
    "plt.plot(x, y_pred, 'b-', label=u'Prediction')\n",
    "\n",
    "plt.xlabel('$x$')\n",
    "plt.ylabel('$f(x)$')\n",
    "plt.ylim(-10, 20)\n",
    "plt.legend(loc='upper left')\n",
    "\n",
    "plt.show()\n",
    "'''"
   ]
  },
  {
   "cell_type": "markdown",
   "metadata": {
    "slideshow": {
     "slide_type": "slide"
    }
   },
   "source": [
    "## A data mining challenge (4 points)"
   ]
  },
  {
   "cell_type": "markdown",
   "metadata": {},
   "source": [
    "The goal here is to use everything you have learned to build the best model for a given classification task. We will use two tasks hosted on OpenML, so you will all receive the same cross-validation splits, and your model will be evaluated on the server. The goal is to reasonably select algorithms and hyperparameter settings to obtain the best model. You can also do model selection, pipeline building, and parameter optimization as you have done before. Skeleton code is provided in the OpenML tutorial. You need to optimize the AUROC score (calculated using 10-fold cross0-validation).\n",
    "\n",
    "- Challenge 1: Detects accents in speech data.\n",
    "\n",
    "    - The OpenML Task ID is 167132: https://www.openml.org/t/167132\n",
    "    - The dataset description can be found here: https://www.openml.org/d/40910\n",
    "    - Leaderboard: https://www.openml.org/t/167132#!people\n",
    "    \n",
    "- Challenge 2: Image recognition (CIFAR-10 subsample).\n",
    "\n",
    "    - The OpenML Task ID is 167133: https://www.openml.org/t/167133\n",
    "    - The dataset description can be found here: https://www.openml.org/d/40926\n",
    "    - Leaderboard: https://www.openml.org/t/167133#!people\n",
    "    - Note that this is a high-dimensional dataset (and not so small). Think carefully about how to run experiments in the  time available.\n",
    "    \n",
    "- You are able to see the solutions of others (by clicking in the timeline or run list), so you can learn from prior experiments (what seems to work, how long does it take to train certain models, ...). Resubmission of the exact same solution is not possible.\n",
    "- You can share one account (one API key) per team. In case you use two, we take the one that performs best.\n",
    "- Document the different experiments that you ran in this notebook (running them can of course be done outside of the notebook). For each experiment, provide a description of how and why you chose the algorithms and parameters that you submitted. Reason about which experiments to try, don't just do an immense random search.\n",
    "- Points are rewarded as follows (independently for each task):\n",
    "\n",
    "    - 1 point for the breadth of experiments you ran (algorithms, pipelines, hyperparameter settings)\n",
    "    - 1 point for reasoning/insight and interpretation of the results\n",
    "    - 1 (bonus) point for every team who has uploaded the best solution thus far **on AUC** (who reaches the top of the leaderboard at any moment during the assignment)\n",
    "        - Exception: simply repeating top models with nearly identical hyperparameters. This will be checked on the timeline.\n",
    "        - Note: On the leaderboard page, the 'frontier' line is drawn, and your top ranking is also shown in the leaderboard.\n",
    "        \n",
    "Note: Report the AUC scores of your best models in your report as well. In case of issues with OpenML we will use the experiments and scores mentioned your report."
   ]
  },
  {
   "cell_type": "code",
   "execution_count": 28,
   "metadata": {},
   "outputs": [
    {
     "name": "stdout",
     "output_type": "stream",
     "text": [
      "(20000, 3072)\n",
      "(20000,)\n",
      "(750, 3072)\n",
      "(750,)\n",
      "(250, 3072)\n",
      "(250,)\n"
     ]
    }
   ],
   "source": [
    "#bananas = oml.datasets.get_dataset(1460) # Download banana data\n",
    "Speech_data = oml.datasets.get_dataset(40926) # Download Speech_data\n",
    "X, y = Speech_data.get_data(target=Speech_data.default_target_attribute);\n",
    "\n",
    "#print(Speech_data)\n",
    "X_del, X_split, y_del, y_split = train_test_split(X, y, test_size=0.05)\n",
    "X_train, X_test, y_train, y_test = train_test_split(X_split, y_split, test_size=0.25)\n",
    "\n",
    "#X_test, X_train, y_test, y_train = train_test_split(X, y, test_size=.75)\n",
    "print(X.shape)\n",
    "print(y.shape)\n",
    "print(X_train.shape)\n",
    "print(y_train.shape)\n",
    "print(X_test.shape)\n",
    "print(y_test.shape)"
   ]
  },
  {
   "cell_type": "code",
   "execution_count": 29,
   "metadata": {},
   "outputs": [
    {
     "ename": "KeyboardInterrupt",
     "evalue": "",
     "output_type": "error",
     "traceback": [
      "\u001b[1;31m---------------------------------------------------------------------------\u001b[0m",
      "\u001b[1;31mKeyboardInterrupt\u001b[0m                         Traceback (most recent call last)",
      "\u001b[1;32m<ipython-input-29-c006c4c5f2ad>\u001b[0m in \u001b[0;36m<module>\u001b[1;34m()\u001b[0m\n\u001b[0;32m    242\u001b[0m \u001b[1;31m# Pipeline2()\u001b[0m\u001b[1;33m\u001b[0m\u001b[1;33m\u001b[0m\u001b[0m\n\u001b[0;32m    243\u001b[0m \u001b[0mstarttime\u001b[0m\u001b[1;33m=\u001b[0m\u001b[0mtime\u001b[0m\u001b[1;33m.\u001b[0m\u001b[0mgmtime\u001b[0m\u001b[1;33m(\u001b[0m\u001b[1;33m)\u001b[0m\u001b[1;33m\u001b[0m\u001b[0m\n\u001b[1;32m--> 244\u001b[1;33m \u001b[0mTotalPipeline\u001b[0m\u001b[1;33m(\u001b[0m\u001b[1;33m)\u001b[0m\u001b[1;33m\u001b[0m\u001b[0m\n\u001b[0m\u001b[0;32m    245\u001b[0m \u001b[0mprint\u001b[0m\u001b[1;33m(\u001b[0m\u001b[1;34m'Elapsed time= '\u001b[0m\u001b[1;33m,\u001b[0m\u001b[0mstarttime\u001b[0m\u001b[1;33m-\u001b[0m\u001b[0mtime\u001b[0m\u001b[1;33m.\u001b[0m\u001b[0mgmtime\u001b[0m\u001b[1;33m(\u001b[0m\u001b[1;33m)\u001b[0m\u001b[1;33m)\u001b[0m\u001b[1;33m\u001b[0m\u001b[0m\n",
      "\u001b[1;32m<ipython-input-29-c006c4c5f2ad>\u001b[0m in \u001b[0;36mTotalPipeline\u001b[1;34m()\u001b[0m\n\u001b[0;32m    226\u001b[0m     \u001b[0mpipe\u001b[0m \u001b[1;33m=\u001b[0m \u001b[0mpipeline\u001b[0m\u001b[1;33m.\u001b[0m\u001b[0mPipeline\u001b[0m\u001b[1;33m(\u001b[0m\u001b[1;33m[\u001b[0m\u001b[1;33m(\u001b[0m\u001b[1;34m'preprocessing'\u001b[0m\u001b[1;33m,\u001b[0m \u001b[0mStandardScaler\u001b[0m\u001b[1;33m(\u001b[0m\u001b[1;33m)\u001b[0m\u001b[1;33m)\u001b[0m\u001b[1;33m,\u001b[0m \u001b[1;33m(\u001b[0m\u001b[1;34m'classifier'\u001b[0m\u001b[1;33m,\u001b[0m \u001b[0mSVC\u001b[0m\u001b[1;33m(\u001b[0m\u001b[1;33m)\u001b[0m\u001b[1;33m)\u001b[0m\u001b[1;33m]\u001b[0m\u001b[1;33m)\u001b[0m\u001b[1;33m\u001b[0m\u001b[0m\n\u001b[0;32m    227\u001b[0m     \u001b[0mgrid\u001b[0m \u001b[1;33m=\u001b[0m \u001b[0mGridSearchCV\u001b[0m\u001b[1;33m(\u001b[0m\u001b[0mpipe\u001b[0m\u001b[1;33m,\u001b[0m \u001b[0mparam_grid\u001b[0m\u001b[1;33m=\u001b[0m\u001b[0mparam_grid\u001b[0m\u001b[1;33m,\u001b[0m \u001b[0mcv\u001b[0m\u001b[1;33m=\u001b[0m\u001b[1;36m10\u001b[0m\u001b[1;33m)\u001b[0m\u001b[1;33m\u001b[0m\u001b[0m\n\u001b[1;32m--> 228\u001b[1;33m     \u001b[0mgrid\u001b[0m\u001b[1;33m.\u001b[0m\u001b[0mfit\u001b[0m\u001b[1;33m(\u001b[0m\u001b[0mX_train\u001b[0m\u001b[1;33m,\u001b[0m \u001b[0my_train\u001b[0m\u001b[1;33m)\u001b[0m\u001b[1;33m\u001b[0m\u001b[0m\n\u001b[0m\u001b[0;32m    229\u001b[0m \u001b[1;33m\u001b[0m\u001b[0m\n\u001b[0;32m    230\u001b[0m     plt.matshow(grid.cv_results_['mean_test_score'].reshape(3, -1),\n",
      "\u001b[1;32m~\\AppData\\Local\\Continuum\\anaconda3\\lib\\site-packages\\sklearn\\model_selection\\_search.py\u001b[0m in \u001b[0;36mfit\u001b[1;34m(self, X, y, groups, **fit_params)\u001b[0m\n\u001b[0;32m    637\u001b[0m                                   error_score=self.error_score)\n\u001b[0;32m    638\u001b[0m           for parameters, (train, test) in product(candidate_params,\n\u001b[1;32m--> 639\u001b[1;33m                                                    cv.split(X, y, groups)))\n\u001b[0m\u001b[0;32m    640\u001b[0m \u001b[1;33m\u001b[0m\u001b[0m\n\u001b[0;32m    641\u001b[0m         \u001b[1;31m# if one choose to see train score, \"out\" will contain train score info\u001b[0m\u001b[1;33m\u001b[0m\u001b[1;33m\u001b[0m\u001b[0m\n",
      "\u001b[1;32m~\\AppData\\Local\\Continuum\\anaconda3\\lib\\site-packages\\sklearn\\externals\\joblib\\parallel.py\u001b[0m in \u001b[0;36m__call__\u001b[1;34m(self, iterable)\u001b[0m\n\u001b[0;32m    777\u001b[0m             \u001b[1;31m# was dispatched. In particular this covers the edge\u001b[0m\u001b[1;33m\u001b[0m\u001b[1;33m\u001b[0m\u001b[0m\n\u001b[0;32m    778\u001b[0m             \u001b[1;31m# case of Parallel used with an exhausted iterator.\u001b[0m\u001b[1;33m\u001b[0m\u001b[1;33m\u001b[0m\u001b[0m\n\u001b[1;32m--> 779\u001b[1;33m             \u001b[1;32mwhile\u001b[0m \u001b[0mself\u001b[0m\u001b[1;33m.\u001b[0m\u001b[0mdispatch_one_batch\u001b[0m\u001b[1;33m(\u001b[0m\u001b[0miterator\u001b[0m\u001b[1;33m)\u001b[0m\u001b[1;33m:\u001b[0m\u001b[1;33m\u001b[0m\u001b[0m\n\u001b[0m\u001b[0;32m    780\u001b[0m                 \u001b[0mself\u001b[0m\u001b[1;33m.\u001b[0m\u001b[0m_iterating\u001b[0m \u001b[1;33m=\u001b[0m \u001b[1;32mTrue\u001b[0m\u001b[1;33m\u001b[0m\u001b[0m\n\u001b[0;32m    781\u001b[0m             \u001b[1;32melse\u001b[0m\u001b[1;33m:\u001b[0m\u001b[1;33m\u001b[0m\u001b[0m\n",
      "\u001b[1;32m~\\AppData\\Local\\Continuum\\anaconda3\\lib\\site-packages\\sklearn\\externals\\joblib\\parallel.py\u001b[0m in \u001b[0;36mdispatch_one_batch\u001b[1;34m(self, iterator)\u001b[0m\n\u001b[0;32m    623\u001b[0m                 \u001b[1;32mreturn\u001b[0m \u001b[1;32mFalse\u001b[0m\u001b[1;33m\u001b[0m\u001b[0m\n\u001b[0;32m    624\u001b[0m             \u001b[1;32melse\u001b[0m\u001b[1;33m:\u001b[0m\u001b[1;33m\u001b[0m\u001b[0m\n\u001b[1;32m--> 625\u001b[1;33m                 \u001b[0mself\u001b[0m\u001b[1;33m.\u001b[0m\u001b[0m_dispatch\u001b[0m\u001b[1;33m(\u001b[0m\u001b[0mtasks\u001b[0m\u001b[1;33m)\u001b[0m\u001b[1;33m\u001b[0m\u001b[0m\n\u001b[0m\u001b[0;32m    626\u001b[0m                 \u001b[1;32mreturn\u001b[0m \u001b[1;32mTrue\u001b[0m\u001b[1;33m\u001b[0m\u001b[0m\n\u001b[0;32m    627\u001b[0m \u001b[1;33m\u001b[0m\u001b[0m\n",
      "\u001b[1;32m~\\AppData\\Local\\Continuum\\anaconda3\\lib\\site-packages\\sklearn\\externals\\joblib\\parallel.py\u001b[0m in \u001b[0;36m_dispatch\u001b[1;34m(self, batch)\u001b[0m\n\u001b[0;32m    586\u001b[0m         \u001b[0mdispatch_timestamp\u001b[0m \u001b[1;33m=\u001b[0m \u001b[0mtime\u001b[0m\u001b[1;33m.\u001b[0m\u001b[0mtime\u001b[0m\u001b[1;33m(\u001b[0m\u001b[1;33m)\u001b[0m\u001b[1;33m\u001b[0m\u001b[0m\n\u001b[0;32m    587\u001b[0m         \u001b[0mcb\u001b[0m \u001b[1;33m=\u001b[0m \u001b[0mBatchCompletionCallBack\u001b[0m\u001b[1;33m(\u001b[0m\u001b[0mdispatch_timestamp\u001b[0m\u001b[1;33m,\u001b[0m \u001b[0mlen\u001b[0m\u001b[1;33m(\u001b[0m\u001b[0mbatch\u001b[0m\u001b[1;33m)\u001b[0m\u001b[1;33m,\u001b[0m \u001b[0mself\u001b[0m\u001b[1;33m)\u001b[0m\u001b[1;33m\u001b[0m\u001b[0m\n\u001b[1;32m--> 588\u001b[1;33m         \u001b[0mjob\u001b[0m \u001b[1;33m=\u001b[0m \u001b[0mself\u001b[0m\u001b[1;33m.\u001b[0m\u001b[0m_backend\u001b[0m\u001b[1;33m.\u001b[0m\u001b[0mapply_async\u001b[0m\u001b[1;33m(\u001b[0m\u001b[0mbatch\u001b[0m\u001b[1;33m,\u001b[0m \u001b[0mcallback\u001b[0m\u001b[1;33m=\u001b[0m\u001b[0mcb\u001b[0m\u001b[1;33m)\u001b[0m\u001b[1;33m\u001b[0m\u001b[0m\n\u001b[0m\u001b[0;32m    589\u001b[0m         \u001b[0mself\u001b[0m\u001b[1;33m.\u001b[0m\u001b[0m_jobs\u001b[0m\u001b[1;33m.\u001b[0m\u001b[0mappend\u001b[0m\u001b[1;33m(\u001b[0m\u001b[0mjob\u001b[0m\u001b[1;33m)\u001b[0m\u001b[1;33m\u001b[0m\u001b[0m\n\u001b[0;32m    590\u001b[0m \u001b[1;33m\u001b[0m\u001b[0m\n",
      "\u001b[1;32m~\\AppData\\Local\\Continuum\\anaconda3\\lib\\site-packages\\sklearn\\externals\\joblib\\_parallel_backends.py\u001b[0m in \u001b[0;36mapply_async\u001b[1;34m(self, func, callback)\u001b[0m\n\u001b[0;32m    109\u001b[0m     \u001b[1;32mdef\u001b[0m \u001b[0mapply_async\u001b[0m\u001b[1;33m(\u001b[0m\u001b[0mself\u001b[0m\u001b[1;33m,\u001b[0m \u001b[0mfunc\u001b[0m\u001b[1;33m,\u001b[0m \u001b[0mcallback\u001b[0m\u001b[1;33m=\u001b[0m\u001b[1;32mNone\u001b[0m\u001b[1;33m)\u001b[0m\u001b[1;33m:\u001b[0m\u001b[1;33m\u001b[0m\u001b[0m\n\u001b[0;32m    110\u001b[0m         \u001b[1;34m\"\"\"Schedule a func to be run\"\"\"\u001b[0m\u001b[1;33m\u001b[0m\u001b[0m\n\u001b[1;32m--> 111\u001b[1;33m         \u001b[0mresult\u001b[0m \u001b[1;33m=\u001b[0m \u001b[0mImmediateResult\u001b[0m\u001b[1;33m(\u001b[0m\u001b[0mfunc\u001b[0m\u001b[1;33m)\u001b[0m\u001b[1;33m\u001b[0m\u001b[0m\n\u001b[0m\u001b[0;32m    112\u001b[0m         \u001b[1;32mif\u001b[0m \u001b[0mcallback\u001b[0m\u001b[1;33m:\u001b[0m\u001b[1;33m\u001b[0m\u001b[0m\n\u001b[0;32m    113\u001b[0m             \u001b[0mcallback\u001b[0m\u001b[1;33m(\u001b[0m\u001b[0mresult\u001b[0m\u001b[1;33m)\u001b[0m\u001b[1;33m\u001b[0m\u001b[0m\n",
      "\u001b[1;32m~\\AppData\\Local\\Continuum\\anaconda3\\lib\\site-packages\\sklearn\\externals\\joblib\\_parallel_backends.py\u001b[0m in \u001b[0;36m__init__\u001b[1;34m(self, batch)\u001b[0m\n\u001b[0;32m    330\u001b[0m         \u001b[1;31m# Don't delay the application, to avoid keeping the input\u001b[0m\u001b[1;33m\u001b[0m\u001b[1;33m\u001b[0m\u001b[0m\n\u001b[0;32m    331\u001b[0m         \u001b[1;31m# arguments in memory\u001b[0m\u001b[1;33m\u001b[0m\u001b[1;33m\u001b[0m\u001b[0m\n\u001b[1;32m--> 332\u001b[1;33m         \u001b[0mself\u001b[0m\u001b[1;33m.\u001b[0m\u001b[0mresults\u001b[0m \u001b[1;33m=\u001b[0m \u001b[0mbatch\u001b[0m\u001b[1;33m(\u001b[0m\u001b[1;33m)\u001b[0m\u001b[1;33m\u001b[0m\u001b[0m\n\u001b[0m\u001b[0;32m    333\u001b[0m \u001b[1;33m\u001b[0m\u001b[0m\n\u001b[0;32m    334\u001b[0m     \u001b[1;32mdef\u001b[0m \u001b[0mget\u001b[0m\u001b[1;33m(\u001b[0m\u001b[0mself\u001b[0m\u001b[1;33m)\u001b[0m\u001b[1;33m:\u001b[0m\u001b[1;33m\u001b[0m\u001b[0m\n",
      "\u001b[1;32m~\\AppData\\Local\\Continuum\\anaconda3\\lib\\site-packages\\sklearn\\externals\\joblib\\parallel.py\u001b[0m in \u001b[0;36m__call__\u001b[1;34m(self)\u001b[0m\n\u001b[0;32m    129\u001b[0m \u001b[1;33m\u001b[0m\u001b[0m\n\u001b[0;32m    130\u001b[0m     \u001b[1;32mdef\u001b[0m \u001b[0m__call__\u001b[0m\u001b[1;33m(\u001b[0m\u001b[0mself\u001b[0m\u001b[1;33m)\u001b[0m\u001b[1;33m:\u001b[0m\u001b[1;33m\u001b[0m\u001b[0m\n\u001b[1;32m--> 131\u001b[1;33m         \u001b[1;32mreturn\u001b[0m \u001b[1;33m[\u001b[0m\u001b[0mfunc\u001b[0m\u001b[1;33m(\u001b[0m\u001b[1;33m*\u001b[0m\u001b[0margs\u001b[0m\u001b[1;33m,\u001b[0m \u001b[1;33m**\u001b[0m\u001b[0mkwargs\u001b[0m\u001b[1;33m)\u001b[0m \u001b[1;32mfor\u001b[0m \u001b[0mfunc\u001b[0m\u001b[1;33m,\u001b[0m \u001b[0margs\u001b[0m\u001b[1;33m,\u001b[0m \u001b[0mkwargs\u001b[0m \u001b[1;32min\u001b[0m \u001b[0mself\u001b[0m\u001b[1;33m.\u001b[0m\u001b[0mitems\u001b[0m\u001b[1;33m]\u001b[0m\u001b[1;33m\u001b[0m\u001b[0m\n\u001b[0m\u001b[0;32m    132\u001b[0m \u001b[1;33m\u001b[0m\u001b[0m\n\u001b[0;32m    133\u001b[0m     \u001b[1;32mdef\u001b[0m \u001b[0m__len__\u001b[0m\u001b[1;33m(\u001b[0m\u001b[0mself\u001b[0m\u001b[1;33m)\u001b[0m\u001b[1;33m:\u001b[0m\u001b[1;33m\u001b[0m\u001b[0m\n",
      "\u001b[1;32m~\\AppData\\Local\\Continuum\\anaconda3\\lib\\site-packages\\sklearn\\externals\\joblib\\parallel.py\u001b[0m in \u001b[0;36m<listcomp>\u001b[1;34m(.0)\u001b[0m\n\u001b[0;32m    129\u001b[0m \u001b[1;33m\u001b[0m\u001b[0m\n\u001b[0;32m    130\u001b[0m     \u001b[1;32mdef\u001b[0m \u001b[0m__call__\u001b[0m\u001b[1;33m(\u001b[0m\u001b[0mself\u001b[0m\u001b[1;33m)\u001b[0m\u001b[1;33m:\u001b[0m\u001b[1;33m\u001b[0m\u001b[0m\n\u001b[1;32m--> 131\u001b[1;33m         \u001b[1;32mreturn\u001b[0m \u001b[1;33m[\u001b[0m\u001b[0mfunc\u001b[0m\u001b[1;33m(\u001b[0m\u001b[1;33m*\u001b[0m\u001b[0margs\u001b[0m\u001b[1;33m,\u001b[0m \u001b[1;33m**\u001b[0m\u001b[0mkwargs\u001b[0m\u001b[1;33m)\u001b[0m \u001b[1;32mfor\u001b[0m \u001b[0mfunc\u001b[0m\u001b[1;33m,\u001b[0m \u001b[0margs\u001b[0m\u001b[1;33m,\u001b[0m \u001b[0mkwargs\u001b[0m \u001b[1;32min\u001b[0m \u001b[0mself\u001b[0m\u001b[1;33m.\u001b[0m\u001b[0mitems\u001b[0m\u001b[1;33m]\u001b[0m\u001b[1;33m\u001b[0m\u001b[0m\n\u001b[0m\u001b[0;32m    132\u001b[0m \u001b[1;33m\u001b[0m\u001b[0m\n\u001b[0;32m    133\u001b[0m     \u001b[1;32mdef\u001b[0m \u001b[0m__len__\u001b[0m\u001b[1;33m(\u001b[0m\u001b[0mself\u001b[0m\u001b[1;33m)\u001b[0m\u001b[1;33m:\u001b[0m\u001b[1;33m\u001b[0m\u001b[0m\n",
      "\u001b[1;32m~\\AppData\\Local\\Continuum\\anaconda3\\lib\\site-packages\\sklearn\\model_selection\\_validation.py\u001b[0m in \u001b[0;36m_fit_and_score\u001b[1;34m(estimator, X, y, scorer, train, test, verbose, parameters, fit_params, return_train_score, return_parameters, return_n_test_samples, return_times, error_score)\u001b[0m\n\u001b[0;32m    456\u001b[0m             \u001b[0mestimator\u001b[0m\u001b[1;33m.\u001b[0m\u001b[0mfit\u001b[0m\u001b[1;33m(\u001b[0m\u001b[0mX_train\u001b[0m\u001b[1;33m,\u001b[0m \u001b[1;33m**\u001b[0m\u001b[0mfit_params\u001b[0m\u001b[1;33m)\u001b[0m\u001b[1;33m\u001b[0m\u001b[0m\n\u001b[0;32m    457\u001b[0m         \u001b[1;32melse\u001b[0m\u001b[1;33m:\u001b[0m\u001b[1;33m\u001b[0m\u001b[0m\n\u001b[1;32m--> 458\u001b[1;33m             \u001b[0mestimator\u001b[0m\u001b[1;33m.\u001b[0m\u001b[0mfit\u001b[0m\u001b[1;33m(\u001b[0m\u001b[0mX_train\u001b[0m\u001b[1;33m,\u001b[0m \u001b[0my_train\u001b[0m\u001b[1;33m,\u001b[0m \u001b[1;33m**\u001b[0m\u001b[0mfit_params\u001b[0m\u001b[1;33m)\u001b[0m\u001b[1;33m\u001b[0m\u001b[0m\n\u001b[0m\u001b[0;32m    459\u001b[0m \u001b[1;33m\u001b[0m\u001b[0m\n\u001b[0;32m    460\u001b[0m     \u001b[1;32mexcept\u001b[0m \u001b[0mException\u001b[0m \u001b[1;32mas\u001b[0m \u001b[0me\u001b[0m\u001b[1;33m:\u001b[0m\u001b[1;33m\u001b[0m\u001b[0m\n",
      "\u001b[1;32m~\\AppData\\Local\\Continuum\\anaconda3\\lib\\site-packages\\sklearn\\pipeline.py\u001b[0m in \u001b[0;36mfit\u001b[1;34m(self, X, y, **fit_params)\u001b[0m\n\u001b[0;32m    248\u001b[0m         \u001b[0mXt\u001b[0m\u001b[1;33m,\u001b[0m \u001b[0mfit_params\u001b[0m \u001b[1;33m=\u001b[0m \u001b[0mself\u001b[0m\u001b[1;33m.\u001b[0m\u001b[0m_fit\u001b[0m\u001b[1;33m(\u001b[0m\u001b[0mX\u001b[0m\u001b[1;33m,\u001b[0m \u001b[0my\u001b[0m\u001b[1;33m,\u001b[0m \u001b[1;33m**\u001b[0m\u001b[0mfit_params\u001b[0m\u001b[1;33m)\u001b[0m\u001b[1;33m\u001b[0m\u001b[0m\n\u001b[0;32m    249\u001b[0m         \u001b[1;32mif\u001b[0m \u001b[0mself\u001b[0m\u001b[1;33m.\u001b[0m\u001b[0m_final_estimator\u001b[0m \u001b[1;32mis\u001b[0m \u001b[1;32mnot\u001b[0m \u001b[1;32mNone\u001b[0m\u001b[1;33m:\u001b[0m\u001b[1;33m\u001b[0m\u001b[0m\n\u001b[1;32m--> 250\u001b[1;33m             \u001b[0mself\u001b[0m\u001b[1;33m.\u001b[0m\u001b[0m_final_estimator\u001b[0m\u001b[1;33m.\u001b[0m\u001b[0mfit\u001b[0m\u001b[1;33m(\u001b[0m\u001b[0mXt\u001b[0m\u001b[1;33m,\u001b[0m \u001b[0my\u001b[0m\u001b[1;33m,\u001b[0m \u001b[1;33m**\u001b[0m\u001b[0mfit_params\u001b[0m\u001b[1;33m)\u001b[0m\u001b[1;33m\u001b[0m\u001b[0m\n\u001b[0m\u001b[0;32m    251\u001b[0m         \u001b[1;32mreturn\u001b[0m \u001b[0mself\u001b[0m\u001b[1;33m\u001b[0m\u001b[0m\n\u001b[0;32m    252\u001b[0m \u001b[1;33m\u001b[0m\u001b[0m\n",
      "\u001b[1;32m~\\AppData\\Local\\Continuum\\anaconda3\\lib\\site-packages\\sklearn\\ensemble\\forest.py\u001b[0m in \u001b[0;36mfit\u001b[1;34m(self, X, y, sample_weight)\u001b[0m\n\u001b[0;32m    326\u001b[0m                     \u001b[0mt\u001b[0m\u001b[1;33m,\u001b[0m \u001b[0mself\u001b[0m\u001b[1;33m,\u001b[0m \u001b[0mX\u001b[0m\u001b[1;33m,\u001b[0m \u001b[0my\u001b[0m\u001b[1;33m,\u001b[0m \u001b[0msample_weight\u001b[0m\u001b[1;33m,\u001b[0m \u001b[0mi\u001b[0m\u001b[1;33m,\u001b[0m \u001b[0mlen\u001b[0m\u001b[1;33m(\u001b[0m\u001b[0mtrees\u001b[0m\u001b[1;33m)\u001b[0m\u001b[1;33m,\u001b[0m\u001b[1;33m\u001b[0m\u001b[0m\n\u001b[0;32m    327\u001b[0m                     verbose=self.verbose, class_weight=self.class_weight)\n\u001b[1;32m--> 328\u001b[1;33m                 for i, t in enumerate(trees))\n\u001b[0m\u001b[0;32m    329\u001b[0m \u001b[1;33m\u001b[0m\u001b[0m\n\u001b[0;32m    330\u001b[0m             \u001b[1;31m# Collect newly grown trees\u001b[0m\u001b[1;33m\u001b[0m\u001b[1;33m\u001b[0m\u001b[0m\n",
      "\u001b[1;32m~\\AppData\\Local\\Continuum\\anaconda3\\lib\\site-packages\\sklearn\\externals\\joblib\\parallel.py\u001b[0m in \u001b[0;36m__call__\u001b[1;34m(self, iterable)\u001b[0m\n\u001b[0;32m    777\u001b[0m             \u001b[1;31m# was dispatched. In particular this covers the edge\u001b[0m\u001b[1;33m\u001b[0m\u001b[1;33m\u001b[0m\u001b[0m\n\u001b[0;32m    778\u001b[0m             \u001b[1;31m# case of Parallel used with an exhausted iterator.\u001b[0m\u001b[1;33m\u001b[0m\u001b[1;33m\u001b[0m\u001b[0m\n\u001b[1;32m--> 779\u001b[1;33m             \u001b[1;32mwhile\u001b[0m \u001b[0mself\u001b[0m\u001b[1;33m.\u001b[0m\u001b[0mdispatch_one_batch\u001b[0m\u001b[1;33m(\u001b[0m\u001b[0miterator\u001b[0m\u001b[1;33m)\u001b[0m\u001b[1;33m:\u001b[0m\u001b[1;33m\u001b[0m\u001b[0m\n\u001b[0m\u001b[0;32m    780\u001b[0m                 \u001b[0mself\u001b[0m\u001b[1;33m.\u001b[0m\u001b[0m_iterating\u001b[0m \u001b[1;33m=\u001b[0m \u001b[1;32mTrue\u001b[0m\u001b[1;33m\u001b[0m\u001b[0m\n\u001b[0;32m    781\u001b[0m             \u001b[1;32melse\u001b[0m\u001b[1;33m:\u001b[0m\u001b[1;33m\u001b[0m\u001b[0m\n",
      "\u001b[1;32m~\\AppData\\Local\\Continuum\\anaconda3\\lib\\site-packages\\sklearn\\externals\\joblib\\parallel.py\u001b[0m in \u001b[0;36mdispatch_one_batch\u001b[1;34m(self, iterator)\u001b[0m\n\u001b[0;32m    623\u001b[0m                 \u001b[1;32mreturn\u001b[0m \u001b[1;32mFalse\u001b[0m\u001b[1;33m\u001b[0m\u001b[0m\n\u001b[0;32m    624\u001b[0m             \u001b[1;32melse\u001b[0m\u001b[1;33m:\u001b[0m\u001b[1;33m\u001b[0m\u001b[0m\n\u001b[1;32m--> 625\u001b[1;33m                 \u001b[0mself\u001b[0m\u001b[1;33m.\u001b[0m\u001b[0m_dispatch\u001b[0m\u001b[1;33m(\u001b[0m\u001b[0mtasks\u001b[0m\u001b[1;33m)\u001b[0m\u001b[1;33m\u001b[0m\u001b[0m\n\u001b[0m\u001b[0;32m    626\u001b[0m                 \u001b[1;32mreturn\u001b[0m \u001b[1;32mTrue\u001b[0m\u001b[1;33m\u001b[0m\u001b[0m\n\u001b[0;32m    627\u001b[0m \u001b[1;33m\u001b[0m\u001b[0m\n",
      "\u001b[1;32m~\\AppData\\Local\\Continuum\\anaconda3\\lib\\site-packages\\sklearn\\externals\\joblib\\parallel.py\u001b[0m in \u001b[0;36m_dispatch\u001b[1;34m(self, batch)\u001b[0m\n\u001b[0;32m    586\u001b[0m         \u001b[0mdispatch_timestamp\u001b[0m \u001b[1;33m=\u001b[0m \u001b[0mtime\u001b[0m\u001b[1;33m.\u001b[0m\u001b[0mtime\u001b[0m\u001b[1;33m(\u001b[0m\u001b[1;33m)\u001b[0m\u001b[1;33m\u001b[0m\u001b[0m\n\u001b[0;32m    587\u001b[0m         \u001b[0mcb\u001b[0m \u001b[1;33m=\u001b[0m \u001b[0mBatchCompletionCallBack\u001b[0m\u001b[1;33m(\u001b[0m\u001b[0mdispatch_timestamp\u001b[0m\u001b[1;33m,\u001b[0m \u001b[0mlen\u001b[0m\u001b[1;33m(\u001b[0m\u001b[0mbatch\u001b[0m\u001b[1;33m)\u001b[0m\u001b[1;33m,\u001b[0m \u001b[0mself\u001b[0m\u001b[1;33m)\u001b[0m\u001b[1;33m\u001b[0m\u001b[0m\n\u001b[1;32m--> 588\u001b[1;33m         \u001b[0mjob\u001b[0m \u001b[1;33m=\u001b[0m \u001b[0mself\u001b[0m\u001b[1;33m.\u001b[0m\u001b[0m_backend\u001b[0m\u001b[1;33m.\u001b[0m\u001b[0mapply_async\u001b[0m\u001b[1;33m(\u001b[0m\u001b[0mbatch\u001b[0m\u001b[1;33m,\u001b[0m \u001b[0mcallback\u001b[0m\u001b[1;33m=\u001b[0m\u001b[0mcb\u001b[0m\u001b[1;33m)\u001b[0m\u001b[1;33m\u001b[0m\u001b[0m\n\u001b[0m\u001b[0;32m    589\u001b[0m         \u001b[0mself\u001b[0m\u001b[1;33m.\u001b[0m\u001b[0m_jobs\u001b[0m\u001b[1;33m.\u001b[0m\u001b[0mappend\u001b[0m\u001b[1;33m(\u001b[0m\u001b[0mjob\u001b[0m\u001b[1;33m)\u001b[0m\u001b[1;33m\u001b[0m\u001b[0m\n\u001b[0;32m    590\u001b[0m \u001b[1;33m\u001b[0m\u001b[0m\n",
      "\u001b[1;32m~\\AppData\\Local\\Continuum\\anaconda3\\lib\\site-packages\\sklearn\\externals\\joblib\\_parallel_backends.py\u001b[0m in \u001b[0;36mapply_async\u001b[1;34m(self, func, callback)\u001b[0m\n\u001b[0;32m    109\u001b[0m     \u001b[1;32mdef\u001b[0m \u001b[0mapply_async\u001b[0m\u001b[1;33m(\u001b[0m\u001b[0mself\u001b[0m\u001b[1;33m,\u001b[0m \u001b[0mfunc\u001b[0m\u001b[1;33m,\u001b[0m \u001b[0mcallback\u001b[0m\u001b[1;33m=\u001b[0m\u001b[1;32mNone\u001b[0m\u001b[1;33m)\u001b[0m\u001b[1;33m:\u001b[0m\u001b[1;33m\u001b[0m\u001b[0m\n\u001b[0;32m    110\u001b[0m         \u001b[1;34m\"\"\"Schedule a func to be run\"\"\"\u001b[0m\u001b[1;33m\u001b[0m\u001b[0m\n\u001b[1;32m--> 111\u001b[1;33m         \u001b[0mresult\u001b[0m \u001b[1;33m=\u001b[0m \u001b[0mImmediateResult\u001b[0m\u001b[1;33m(\u001b[0m\u001b[0mfunc\u001b[0m\u001b[1;33m)\u001b[0m\u001b[1;33m\u001b[0m\u001b[0m\n\u001b[0m\u001b[0;32m    112\u001b[0m         \u001b[1;32mif\u001b[0m \u001b[0mcallback\u001b[0m\u001b[1;33m:\u001b[0m\u001b[1;33m\u001b[0m\u001b[0m\n\u001b[0;32m    113\u001b[0m             \u001b[0mcallback\u001b[0m\u001b[1;33m(\u001b[0m\u001b[0mresult\u001b[0m\u001b[1;33m)\u001b[0m\u001b[1;33m\u001b[0m\u001b[0m\n",
      "\u001b[1;32m~\\AppData\\Local\\Continuum\\anaconda3\\lib\\site-packages\\sklearn\\externals\\joblib\\_parallel_backends.py\u001b[0m in \u001b[0;36m__init__\u001b[1;34m(self, batch)\u001b[0m\n\u001b[0;32m    330\u001b[0m         \u001b[1;31m# Don't delay the application, to avoid keeping the input\u001b[0m\u001b[1;33m\u001b[0m\u001b[1;33m\u001b[0m\u001b[0m\n\u001b[0;32m    331\u001b[0m         \u001b[1;31m# arguments in memory\u001b[0m\u001b[1;33m\u001b[0m\u001b[1;33m\u001b[0m\u001b[0m\n\u001b[1;32m--> 332\u001b[1;33m         \u001b[0mself\u001b[0m\u001b[1;33m.\u001b[0m\u001b[0mresults\u001b[0m \u001b[1;33m=\u001b[0m \u001b[0mbatch\u001b[0m\u001b[1;33m(\u001b[0m\u001b[1;33m)\u001b[0m\u001b[1;33m\u001b[0m\u001b[0m\n\u001b[0m\u001b[0;32m    333\u001b[0m \u001b[1;33m\u001b[0m\u001b[0m\n\u001b[0;32m    334\u001b[0m     \u001b[1;32mdef\u001b[0m \u001b[0mget\u001b[0m\u001b[1;33m(\u001b[0m\u001b[0mself\u001b[0m\u001b[1;33m)\u001b[0m\u001b[1;33m:\u001b[0m\u001b[1;33m\u001b[0m\u001b[0m\n",
      "\u001b[1;32m~\\AppData\\Local\\Continuum\\anaconda3\\lib\\site-packages\\sklearn\\externals\\joblib\\parallel.py\u001b[0m in \u001b[0;36m__call__\u001b[1;34m(self)\u001b[0m\n\u001b[0;32m    129\u001b[0m \u001b[1;33m\u001b[0m\u001b[0m\n\u001b[0;32m    130\u001b[0m     \u001b[1;32mdef\u001b[0m \u001b[0m__call__\u001b[0m\u001b[1;33m(\u001b[0m\u001b[0mself\u001b[0m\u001b[1;33m)\u001b[0m\u001b[1;33m:\u001b[0m\u001b[1;33m\u001b[0m\u001b[0m\n\u001b[1;32m--> 131\u001b[1;33m         \u001b[1;32mreturn\u001b[0m \u001b[1;33m[\u001b[0m\u001b[0mfunc\u001b[0m\u001b[1;33m(\u001b[0m\u001b[1;33m*\u001b[0m\u001b[0margs\u001b[0m\u001b[1;33m,\u001b[0m \u001b[1;33m**\u001b[0m\u001b[0mkwargs\u001b[0m\u001b[1;33m)\u001b[0m \u001b[1;32mfor\u001b[0m \u001b[0mfunc\u001b[0m\u001b[1;33m,\u001b[0m \u001b[0margs\u001b[0m\u001b[1;33m,\u001b[0m \u001b[0mkwargs\u001b[0m \u001b[1;32min\u001b[0m \u001b[0mself\u001b[0m\u001b[1;33m.\u001b[0m\u001b[0mitems\u001b[0m\u001b[1;33m]\u001b[0m\u001b[1;33m\u001b[0m\u001b[0m\n\u001b[0m\u001b[0;32m    132\u001b[0m \u001b[1;33m\u001b[0m\u001b[0m\n\u001b[0;32m    133\u001b[0m     \u001b[1;32mdef\u001b[0m \u001b[0m__len__\u001b[0m\u001b[1;33m(\u001b[0m\u001b[0mself\u001b[0m\u001b[1;33m)\u001b[0m\u001b[1;33m:\u001b[0m\u001b[1;33m\u001b[0m\u001b[0m\n",
      "\u001b[1;32m~\\AppData\\Local\\Continuum\\anaconda3\\lib\\site-packages\\sklearn\\externals\\joblib\\parallel.py\u001b[0m in \u001b[0;36m<listcomp>\u001b[1;34m(.0)\u001b[0m\n\u001b[0;32m    129\u001b[0m \u001b[1;33m\u001b[0m\u001b[0m\n\u001b[0;32m    130\u001b[0m     \u001b[1;32mdef\u001b[0m \u001b[0m__call__\u001b[0m\u001b[1;33m(\u001b[0m\u001b[0mself\u001b[0m\u001b[1;33m)\u001b[0m\u001b[1;33m:\u001b[0m\u001b[1;33m\u001b[0m\u001b[0m\n\u001b[1;32m--> 131\u001b[1;33m         \u001b[1;32mreturn\u001b[0m \u001b[1;33m[\u001b[0m\u001b[0mfunc\u001b[0m\u001b[1;33m(\u001b[0m\u001b[1;33m*\u001b[0m\u001b[0margs\u001b[0m\u001b[1;33m,\u001b[0m \u001b[1;33m**\u001b[0m\u001b[0mkwargs\u001b[0m\u001b[1;33m)\u001b[0m \u001b[1;32mfor\u001b[0m \u001b[0mfunc\u001b[0m\u001b[1;33m,\u001b[0m \u001b[0margs\u001b[0m\u001b[1;33m,\u001b[0m \u001b[0mkwargs\u001b[0m \u001b[1;32min\u001b[0m \u001b[0mself\u001b[0m\u001b[1;33m.\u001b[0m\u001b[0mitems\u001b[0m\u001b[1;33m]\u001b[0m\u001b[1;33m\u001b[0m\u001b[0m\n\u001b[0m\u001b[0;32m    132\u001b[0m \u001b[1;33m\u001b[0m\u001b[0m\n\u001b[0;32m    133\u001b[0m     \u001b[1;32mdef\u001b[0m \u001b[0m__len__\u001b[0m\u001b[1;33m(\u001b[0m\u001b[0mself\u001b[0m\u001b[1;33m)\u001b[0m\u001b[1;33m:\u001b[0m\u001b[1;33m\u001b[0m\u001b[0m\n",
      "\u001b[1;32m~\\AppData\\Local\\Continuum\\anaconda3\\lib\\site-packages\\sklearn\\ensemble\\forest.py\u001b[0m in \u001b[0;36m_parallel_build_trees\u001b[1;34m(tree, forest, X, y, sample_weight, tree_idx, n_trees, verbose, class_weight)\u001b[0m\n\u001b[0;32m    119\u001b[0m             \u001b[0mcurr_sample_weight\u001b[0m \u001b[1;33m*=\u001b[0m \u001b[0mcompute_sample_weight\u001b[0m\u001b[1;33m(\u001b[0m\u001b[1;34m'balanced'\u001b[0m\u001b[1;33m,\u001b[0m \u001b[0my\u001b[0m\u001b[1;33m,\u001b[0m \u001b[0mindices\u001b[0m\u001b[1;33m)\u001b[0m\u001b[1;33m\u001b[0m\u001b[0m\n\u001b[0;32m    120\u001b[0m \u001b[1;33m\u001b[0m\u001b[0m\n\u001b[1;32m--> 121\u001b[1;33m         \u001b[0mtree\u001b[0m\u001b[1;33m.\u001b[0m\u001b[0mfit\u001b[0m\u001b[1;33m(\u001b[0m\u001b[0mX\u001b[0m\u001b[1;33m,\u001b[0m \u001b[0my\u001b[0m\u001b[1;33m,\u001b[0m \u001b[0msample_weight\u001b[0m\u001b[1;33m=\u001b[0m\u001b[0mcurr_sample_weight\u001b[0m\u001b[1;33m,\u001b[0m \u001b[0mcheck_input\u001b[0m\u001b[1;33m=\u001b[0m\u001b[1;32mFalse\u001b[0m\u001b[1;33m)\u001b[0m\u001b[1;33m\u001b[0m\u001b[0m\n\u001b[0m\u001b[0;32m    122\u001b[0m     \u001b[1;32melse\u001b[0m\u001b[1;33m:\u001b[0m\u001b[1;33m\u001b[0m\u001b[0m\n\u001b[0;32m    123\u001b[0m         \u001b[0mtree\u001b[0m\u001b[1;33m.\u001b[0m\u001b[0mfit\u001b[0m\u001b[1;33m(\u001b[0m\u001b[0mX\u001b[0m\u001b[1;33m,\u001b[0m \u001b[0my\u001b[0m\u001b[1;33m,\u001b[0m \u001b[0msample_weight\u001b[0m\u001b[1;33m=\u001b[0m\u001b[0msample_weight\u001b[0m\u001b[1;33m,\u001b[0m \u001b[0mcheck_input\u001b[0m\u001b[1;33m=\u001b[0m\u001b[1;32mFalse\u001b[0m\u001b[1;33m)\u001b[0m\u001b[1;33m\u001b[0m\u001b[0m\n",
      "\u001b[1;32m~\\AppData\\Local\\Continuum\\anaconda3\\lib\\site-packages\\sklearn\\tree\\tree.py\u001b[0m in \u001b[0;36mfit\u001b[1;34m(self, X, y, sample_weight, check_input, X_idx_sorted)\u001b[0m\n\u001b[0;32m    788\u001b[0m             \u001b[0msample_weight\u001b[0m\u001b[1;33m=\u001b[0m\u001b[0msample_weight\u001b[0m\u001b[1;33m,\u001b[0m\u001b[1;33m\u001b[0m\u001b[0m\n\u001b[0;32m    789\u001b[0m             \u001b[0mcheck_input\u001b[0m\u001b[1;33m=\u001b[0m\u001b[0mcheck_input\u001b[0m\u001b[1;33m,\u001b[0m\u001b[1;33m\u001b[0m\u001b[0m\n\u001b[1;32m--> 790\u001b[1;33m             X_idx_sorted=X_idx_sorted)\n\u001b[0m\u001b[0;32m    791\u001b[0m         \u001b[1;32mreturn\u001b[0m \u001b[0mself\u001b[0m\u001b[1;33m\u001b[0m\u001b[0m\n\u001b[0;32m    792\u001b[0m \u001b[1;33m\u001b[0m\u001b[0m\n",
      "\u001b[1;32m~\\AppData\\Local\\Continuum\\anaconda3\\lib\\site-packages\\sklearn\\tree\\tree.py\u001b[0m in \u001b[0;36mfit\u001b[1;34m(self, X, y, sample_weight, check_input, X_idx_sorted)\u001b[0m\n\u001b[0;32m    360\u001b[0m                                            min_impurity_split)\n\u001b[0;32m    361\u001b[0m \u001b[1;33m\u001b[0m\u001b[0m\n\u001b[1;32m--> 362\u001b[1;33m         \u001b[0mbuilder\u001b[0m\u001b[1;33m.\u001b[0m\u001b[0mbuild\u001b[0m\u001b[1;33m(\u001b[0m\u001b[0mself\u001b[0m\u001b[1;33m.\u001b[0m\u001b[0mtree_\u001b[0m\u001b[1;33m,\u001b[0m \u001b[0mX\u001b[0m\u001b[1;33m,\u001b[0m \u001b[0my\u001b[0m\u001b[1;33m,\u001b[0m \u001b[0msample_weight\u001b[0m\u001b[1;33m,\u001b[0m \u001b[0mX_idx_sorted\u001b[0m\u001b[1;33m)\u001b[0m\u001b[1;33m\u001b[0m\u001b[0m\n\u001b[0m\u001b[0;32m    363\u001b[0m \u001b[1;33m\u001b[0m\u001b[0m\n\u001b[0;32m    364\u001b[0m         \u001b[1;32mif\u001b[0m \u001b[0mself\u001b[0m\u001b[1;33m.\u001b[0m\u001b[0mn_outputs_\u001b[0m \u001b[1;33m==\u001b[0m \u001b[1;36m1\u001b[0m\u001b[1;33m:\u001b[0m\u001b[1;33m\u001b[0m\u001b[0m\n",
      "\u001b[1;31mKeyboardInterrupt\u001b[0m: "
     ]
    }
   ],
   "source": [
    "from sklearn.neighbors import KNeighborsClassifier  \n",
    "from sklearn.linear_model import LogisticRegression\n",
    "from sklearn.ensemble import RandomForestClassifier\n",
    "from sklearn.metrics import accuracy_score\n",
    "from sklearn.metrics import classification_report, confusion_matrix  \n",
    "import time\n",
    "from sklearn.neighbors import KNeighborsClassifier \n",
    "from sklearn.model_selection import KFold\n",
    "import matplotlib.pyplot as plt\n",
    "from sklearn.preprocessing import MinMaxScaler\n",
    "from sklearn.model_selection import GridSearchCV\n",
    "from sklearn.pipeline import Pipeline\n",
    "from sklearn.linear_model import LinearRegression, Ridge, LogisticRegression, Lasso, ElasticNet\n",
    "from sklearn.preprocessing import StandardScaler\n",
    "from sklearn import pipeline\n",
    "from sklearn.svm import SVC  \n",
    "    \n",
    "def WhichAlgorithm():     \n",
    "    Fraction=np.array([0.95])\n",
    "    A = np.zeros((len(Fraction), 2)) # Accuracy Matrix\n",
    "    T = np.zeros((len(Fraction),2))  # Computation time Matrix\n",
    "\n",
    "    # Split the data in test data and train data (stratified 10% subsample)\n",
    "    from sklearn.model_selection import train_test_split  \n",
    "    \n",
    "    #n1 = randint(0,len(y_test1))\n",
    "    #n2 = randint(0,len(y_test1))\n",
    "\n",
    "    for i in range(len(Fraction)):\n",
    "        \n",
    "        X_del, X_split, y_del, y_split = train_test_split(X, y, test_size=Fraction[i])\n",
    "        X_train, X_test, y_train, y_test = train_test_split(X_split, y_split, test_size=0.25)\n",
    "        \n",
    "        print(i)\n",
    "        \n",
    "        # Solve the learning problems if the solutions do not exist yet\n",
    "        #if not 'classifier' in locals(): \n",
    "        tic = time.clock()\n",
    "        knn = KNeighborsClassifier(n_neighbors=5)  \n",
    "        knn.fit(X_train, y_train) \n",
    "        toc = time.clock()\n",
    "        #y_predKNearest = knn.predict(X_test)  \n",
    "        Accuracy_KNearest=knn.score(X_test,y_test)\n",
    "        A[i][0]=Accuracy_KNearest\n",
    "        T[i][0]=toc-tic\n",
    "        \n",
    "        #if not 'Forest' in locals():   \n",
    "        tic = time.clock()\n",
    "        Forest = RandomForestClassifier()\n",
    "        Forest.fit(X_train,y_train)\n",
    "        toc = time.clock()\n",
    "        #y_predForest = Forest.predict(X_test)  \n",
    "        Accuracy_Forest=Forest.score(X_test,y_test) #accuracy_score(y_test,y_predForest)\n",
    "        A[i][1]=Accuracy_Forest\n",
    "        T[i][1]=toc-tic\n",
    "        \n",
    "    xas=Fraction\n",
    "    plot1=plt.subplot(1,2,1);\n",
    "    plt.plot(xas,A[:,0],linewidth=2);\n",
    "    plt.plot(xas,A[:,1],linewidth=2);\n",
    "    plt.title('Accuracy',fontweight='bold',fontsize=15);\n",
    "    plt.xlabel('Fraction');\n",
    "    plt.ylabel('Accuracy [%]');\n",
    "#     plot1.set_ylim([0, 1])\n",
    "    \n",
    "#     red_patch = mpatches.Patch(color='red', label='The red data')\n",
    "    plt.legend(['k-Nearest','RandomForest'])\n",
    "    #plt.grid()\n",
    "    plt.subplot(1,2,2);\n",
    "    plt.plot(xas,T[:,0],linewidth=2);\n",
    "    plt.plot(xas,T[:,1],linewidth=2);\n",
    "    plt.title('Time',fontweight='bold',fontsize=15);\n",
    "    plt.xlabel('Fraction');\n",
    "    plt.ylabel('Time (s)');\n",
    "    plt.grid()\n",
    "    plt.legend(['k-Nearest','RandomForest'])\n",
    "    plt.show()\n",
    "    return\n",
    "   \n",
    "    length_data=len(y); #92000\n",
    "    \n",
    "    number_of_test=100; # To have more control of the computation time\n",
    "    number_of_training=1000; # Not used\n",
    "\n",
    "    Fractionb=np.array([0.02, 0.05])\n",
    "    \n",
    "    A1 = np.zeros((len(Fractionb),1)) # Accuracy Matrix\n",
    "    T1 = np.zeros((len(Fractionb),1))  # Computation time Matrix\n",
    "\n",
    "    # Split the data in test data and train data (stratified 10% subsample)\n",
    "    from sklearn.model_selection import train_test_split  \n",
    "\n",
    "    #n1 = randint(0,len(y_test1))\n",
    "    #n2 = randint(0,len(y_test1))\n",
    "\n",
    "    for i in range(len(Fractionb)):\n",
    "        X_del, X_split, y_del, y_split = train_test_split(X, y, test_size=Fractionb[i])\n",
    "        X_train, X_test, y_train, y_test = train_test_split(X_split, y_split, test_size=0.25)\n",
    "\n",
    "        print(i)\n",
    "        \n",
    "        #if not 'logistic' in locals(): \n",
    "        tic = time.clock()\n",
    "        logistic = LogisticRegression()\n",
    "        logistic.fit(X_train,y_train)\n",
    "        toc = time.clock()\n",
    "#         y_predLogistic = logistic.predict(X_test) \n",
    "        Accuracy_Logistic=logistic.score(X_test,y_test) #accuracy_score(y_test,y_predLogistic)\n",
    "        A1[i][0]=Accuracy_Logistic\n",
    "        T1[i][0]=toc-tic       \n",
    "        \n",
    "    xas=Fractionb\n",
    "    plt.figure()\n",
    "    plot1=plt.subplot(1,2,1);\n",
    "    plt.plot(xas,A1[:,0],linewidth=2);\n",
    "    plt.title('Accuracy',fontweight='bold',fontsize=15);\n",
    "    plt.xlabel('Fraction');\n",
    "    plt.ylabel('Accuracy [%]');\n",
    "    plot1.set_ylim([0, 1])\n",
    "    \n",
    "#   red_patch = mpatches.Patch(color='red', label='The red data')\n",
    "    plt.legend(['Logistic Regression'])\n",
    "    #plt.grid()\n",
    "    plt.subplot(1,2,2);\n",
    "    plt.plot(xas,T1[:,0],linewidth=2);\n",
    "    plt.title('Time',fontweight='bold',fontsize=15);\n",
    "    plt.xlabel('Fraction');\n",
    "    plt.ylabel('Time (s)');\n",
    "    plt.grid()\n",
    "    plt.legend(['Logistic Regression'])\n",
    "    plt.tight_layout() \n",
    "    plt.show()\n",
    "\n",
    "    return\n",
    "\n",
    "def Scaling():\n",
    "    scaler = MinMaxScaler()\n",
    "    scaler.fit(X_train)\n",
    "    X_train_scaled = scaler.transform(X_train)\n",
    "    X_test_scaled = scaler.transform(X_test)\n",
    "    X_test=X_test_scaled\n",
    "    X_train=X_train_scaled\n",
    "# Do not use this in a grid search of cross validation, \n",
    "# because the scaler is based on the data that will be used in cross validation. Therefore build a pipeline\n",
    "\n",
    "def ForestPipeLine(): # For a RandomForest\n",
    "   \n",
    "    \n",
    "    param_grid={\"Forest__n_estimators\": [40 ,100],\n",
    "            'Forest__max_features': [10, 100]}\n",
    "        \n",
    "    pipe = pipeline.Pipeline([(\"scaler\", MinMaxScaler()), (\"Forest\", RandomForestClassifier())])\n",
    "    \n",
    "    grid = GridSearchCV(pipe, param_grid=param_grid, cv=10, n_jobs=8)\n",
    "    grid.fit(X_train, y_train)\n",
    "    print('**Results for RandomForest**')\n",
    "    print(\"Best cross-validation accuracy: {:.2f}\".format(grid.best_score_))\n",
    "    print(\"Test set score: {:.2f}\".format(grid.score(X_test, y_test)))\n",
    "    print(\"Best parameters: {}\".format(grid.best_params_))\n",
    "    print(\"Best estimator:\\n{}\".format(grid.best_estimator_)) #Show the best pipeline \n",
    "    # Get the SVM\n",
    "    print(\"clf step:\\n{}\".format(\n",
    "          grid.best_estimator_.named_steps[\"Forest\"]))\n",
    "    \n",
    "def Pipeline2(): #Memory error\n",
    "    from sklearn import pipeline\n",
    "    from sklearn.preprocessing import PolynomialFeatures    \n",
    "    \n",
    "    param_grid = {'polynomialfeatures__degree': [1, 2, 3],\n",
    "              'ridge__alpha': [0.001, 100]} #0.001, 0.01, 0.1, 1, 10, 100\n",
    "    \n",
    "    pipe = pipeline.make_pipeline(\n",
    "    StandardScaler(),\n",
    "    PolynomialFeatures(),\n",
    "    Ridge())\n",
    "        \n",
    "    pipe = pipeline.make_pipeline( StandardScaler(), PolynomialFeatures(), Ridge())\n",
    "    \n",
    "    grid = GridSearchCV(pipe, param_grid=param_grid, cv=10)\n",
    "    grid.fit(X_train, y_train)\n",
    "    print('**Results for RandomForest**')\n",
    "    print(\"Best cross-validation accuracy: {:.2f}\".format(grid.best_score_))\n",
    "    print(\"Test set score: {:.2f}\".format(grid.score(X_test, y_test)))\n",
    "    print(\"Best parameters: {}\".format(grid.best_params_))\n",
    "    print(\"Best estimator:\\n{}\".format(grid.best_estimator_)) #Show the best pipeline \n",
    "    # Get the SVM\n",
    "    #print(\"clf step:\\n{}\".format(\n",
    "    #      grid.best_estimator_.named_steps[\"Forest\"]))\n",
    "    \n",
    "    plt.matshow(grid.cv_results_['mean_test_score'].reshape(3, -1),\n",
    "            vmin=0, cmap=\"viridis\")\n",
    "    plt.xlabel(\"ridge__alpha\")\n",
    "    plt.ylabel(\"polynomialfeatures__degree\")\n",
    "    plt.xticks(range(len(param_grid['ridge__alpha'])), param_grid['ridge__alpha'])\n",
    "    plt.yticks(range(len(param_grid['polynomialfeatures__degree'])),\n",
    "           param_grid['polynomialfeatures__degree'])\n",
    "\n",
    "    plt.colorbar();\n",
    "\n",
    "def TotalPipeline():\n",
    "    '''\n",
    "    param_grid = [\n",
    "    {'classifier': [SVC()], 'preprocessing': [StandardScaler()],\n",
    "     'classifier__gamma': [0.001, 0.01, 0.1, 1, 10, 100],\n",
    "     'classifier__C': [0.001, 0.01, 0.1, 1, 10, 100]}]\n",
    "\n",
    "    pipe = pipeline.Pipeline([('preprocessing', StandardScaler()), ('classifier', SVC())])\n",
    "    grid = GridSearchCV(pipe, param_grid=param_grid, cv=10)\n",
    "    grid.fit(X_train, y_train)\n",
    "    \n",
    "    plt.matshow(grid.cv_results_['mean_test_score'].reshape(3, -1),\n",
    "            vmin=0, cmap=\"viridis\")\n",
    "    plt.xlabel(\"classifier__gamma\")\n",
    "    plt.ylabel(\"classifier__C\")\n",
    "    #plt.xticks(range(len(param_grid['classifier__gamma'])))\n",
    "    #plt.yticks(range(len(param_grid['classifier__C'])))\n",
    "    #plt.yticks(range(len(param_grid['polynomialfeatures__degree'])),\n",
    "      #     param_grid['polynomialfeatures__degree'])\n",
    "\n",
    "    plt.colorbar();\n",
    "    '''\n",
    "    param_grid = [{'classifier': [RandomForestClassifier()],\n",
    "                'preprocessing': [StandardScaler(), None], 'classifier__n_estimators': [100,170,240],\n",
    "                                                            'classifier__max_features':[40,60,80]}]\n",
    "    \n",
    "    pipe = pipeline.Pipeline([('preprocessing', StandardScaler()), ('classifier', SVC())])\n",
    "    grid = GridSearchCV(pipe, param_grid=param_grid, cv=10)\n",
    "    grid.fit(X_train, y_train)\n",
    "    \n",
    "    plt.matshow(grid.cv_results_['mean_test_score'].reshape(3, -1),\n",
    "            vmin=0, cmap=\"viridis\")\n",
    "    #plt.xlabel(\"ridge__alpha\")\n",
    "    #plt.ylabel(\"polynomialfeatures__degree\")\n",
    "    #plt.xticks(range(len(param_grid['classifier__gamma'])), param_grid['classifier__C'])\n",
    "    #plt.yticks(range(len(param_grid['polynomialfeatures__degree'])),\n",
    "     #      param_grid['polynomialfeatures__degree'])\n",
    "\n",
    "    plt.colorbar();\n",
    "    \n",
    "# WhichAlgorithm()\n",
    "# ForestPipeLine()\n",
    "# Pipeline2()\n",
    "starttime=time.gmtime()\n",
    "TotalPipeline()\n",
    "print('Elapsed time= ',starttime-time.gmtime())\n"
   ]
  },
  {
   "cell_type": "code",
   "execution_count": null,
   "metadata": {},
   "outputs": [],
   "source": []
  },
  {
   "cell_type": "code",
   "execution_count": null,
   "metadata": {},
   "outputs": [],
   "source": []
  },
  {
   "cell_type": "code",
   "execution_count": null,
   "metadata": {},
   "outputs": [],
   "source": []
  },
  {
   "cell_type": "code",
   "execution_count": null,
   "metadata": {},
   "outputs": [],
   "source": []
  },
  {
   "cell_type": "code",
   "execution_count": null,
   "metadata": {},
   "outputs": [],
   "source": []
  }
 ],
 "metadata": {
  "anaconda-cloud": {},
  "celltoolbar": "Slideshow",
  "kernelspec": {
   "display_name": "Python 3",
   "language": "python",
   "name": "python3"
  },
  "language_info": {
   "codemirror_mode": {
    "name": "ipython",
    "version": 3
   },
   "file_extension": ".py",
   "mimetype": "text/x-python",
   "name": "python",
   "nbconvert_exporter": "python",
   "pygments_lexer": "ipython3",
   "version": "3.6.4"
  }
 },
 "nbformat": 4,
 "nbformat_minor": 2
}
